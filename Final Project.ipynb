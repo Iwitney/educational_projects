{
 "cells": [
  {
   "cell_type": "markdown",
   "id": "8873b260",
   "metadata": {},
   "source": [
    "# Проект: вариант 2\n",
    "## Задание 1. A/B–тестирование\n",
    "### 1.1 Условие\n",
    "\n",
    "Одной из основных задач аналитика в нашей команде является корректное проведение экспериментов. Для этого мы применяем метод A/B–тестирования. В ходе тестирования одной гипотезы целевой группе была предложена новая механика оплаты услуг на сайте, у контрольной группы оставалась базовая механика. В качестве задания Вам необходимо проанализировать итоги эксперимента и сделать вывод, стоит ли запускать новую механику оплаты на всех пользователей.\n",
    "\n",
    "### 1.2 Входные данные\n",
    "\n",
    "В качестве входных данных Вы имеете 4 csv-файла:\n",
    "\n",
    "* groups.csv - файл с информацией о принадлежности пользователя к контрольной или экспериментальной группе (А – контроль, B – целевая группа) \n",
    "* groups_add.csv - дополнительный файл с пользователями, который вам прислали спустя 2 дня после передачи данных\n",
    "* active_studs.csv - файл с информацией о пользователях, которые зашли на платформу в дни проведения эксперимента. \n",
    "* checks.csv - файл с информацией об оплатах пользователей в дни проведения эксперимента. \n",
    "### 1.3 Вопросы\n",
    "\n",
    "Предлагаем Вам ответить на следующие вопросы:\n",
    "\n",
    "На какие метрики Вы смотрите в ходе анализа и почему?\n",
    "Имеются ли различия в показателях и с чем они могут быть связаны?\n",
    "Являются ли эти различия статистически значимыми?\n",
    "Стоит ли запускать новую механику на всех пользователей?\n",
    "Данный список вопросов не является обязательным, и Вы можете при своём ответе опираться на собственный план.\n",
    "\n",
    "### 1.4 Требования к ответу\n",
    "\n",
    "При выполнении тестового задания необходимо использовать язык программирования Python. \n",
    "В файле обязательно должны быть комментарии к тем действиям, которые Вы выполняете с данными. \n",
    "Файл должен представлять собой законченный отчёт с выводами, сделанными в ходе исследования.\n"
   ]
  },
  {
   "cell_type": "code",
   "execution_count": 1,
   "id": "358187d3",
   "metadata": {},
   "outputs": [],
   "source": [
    "import pandas as pd\n",
    "import numpy as np\n",
    "from scipy.stats import chi2_contingency\n",
    "from scipy.stats import shapiro\n",
    "from scipy.stats import mannwhitneyu\n",
    "from scipy.stats import norm\n",
    "from tqdm.auto import tqdm\n",
    "\n",
    "import matplotlib.pyplot as plt\n",
    "import seaborn as sns\n",
    "\n",
    "sns.set_theme(style=\"whitegrid\")\n",
    "%matplotlib inline"
   ]
  },
  {
   "cell_type": "code",
   "execution_count": 2,
   "id": "a53eb09e",
   "metadata": {},
   "outputs": [],
   "source": [
    "#plt.style.use('ggplot')"
   ]
  },
  {
   "cell_type": "code",
   "execution_count": 3,
   "id": "8dbec111",
   "metadata": {},
   "outputs": [],
   "source": [
    "df_groups = pd.read_csv('Проект_2_groups.csv', sep=';')"
   ]
  },
  {
   "cell_type": "code",
   "execution_count": 4,
   "id": "b202cb92",
   "metadata": {},
   "outputs": [
    {
     "data": {
      "text/html": [
       "<div>\n",
       "<style scoped>\n",
       "    .dataframe tbody tr th:only-of-type {\n",
       "        vertical-align: middle;\n",
       "    }\n",
       "\n",
       "    .dataframe tbody tr th {\n",
       "        vertical-align: top;\n",
       "    }\n",
       "\n",
       "    .dataframe thead th {\n",
       "        text-align: right;\n",
       "    }\n",
       "</style>\n",
       "<table border=\"1\" class=\"dataframe\">\n",
       "  <thead>\n",
       "    <tr style=\"text-align: right;\">\n",
       "      <th></th>\n",
       "      <th>id</th>\n",
       "      <th>grp</th>\n",
       "    </tr>\n",
       "  </thead>\n",
       "  <tbody>\n",
       "    <tr>\n",
       "      <th>0</th>\n",
       "      <td>1489</td>\n",
       "      <td>B</td>\n",
       "    </tr>\n",
       "    <tr>\n",
       "      <th>1</th>\n",
       "      <td>1627</td>\n",
       "      <td>A</td>\n",
       "    </tr>\n",
       "    <tr>\n",
       "      <th>2</th>\n",
       "      <td>1768</td>\n",
       "      <td>B</td>\n",
       "    </tr>\n",
       "    <tr>\n",
       "      <th>3</th>\n",
       "      <td>1783</td>\n",
       "      <td>B</td>\n",
       "    </tr>\n",
       "    <tr>\n",
       "      <th>4</th>\n",
       "      <td>1794</td>\n",
       "      <td>A</td>\n",
       "    </tr>\n",
       "  </tbody>\n",
       "</table>\n",
       "</div>"
      ],
      "text/plain": [
       "     id grp\n",
       "0  1489   B\n",
       "1  1627   A\n",
       "2  1768   B\n",
       "3  1783   B\n",
       "4  1794   A"
      ]
     },
     "execution_count": 4,
     "metadata": {},
     "output_type": "execute_result"
    }
   ],
   "source": [
    "df_groups.head()"
   ]
  },
  {
   "cell_type": "code",
   "execution_count": 5,
   "id": "7bff5602",
   "metadata": {
    "scrolled": true
   },
   "outputs": [
    {
     "data": {
      "text/plain": [
       "id      int64\n",
       "grp    object\n",
       "dtype: object"
      ]
     },
     "execution_count": 5,
     "metadata": {},
     "output_type": "execute_result"
    }
   ],
   "source": [
    "df_groups.dtypes"
   ]
  },
  {
   "cell_type": "code",
   "execution_count": 6,
   "id": "f5225e45",
   "metadata": {},
   "outputs": [
    {
     "data": {
      "text/plain": [
       "(74484, 2)"
      ]
     },
     "execution_count": 6,
     "metadata": {},
     "output_type": "execute_result"
    }
   ],
   "source": [
    "df_groups.shape"
   ]
  },
  {
   "cell_type": "code",
   "execution_count": 7,
   "id": "8e52bdce",
   "metadata": {},
   "outputs": [
    {
     "data": {
      "text/plain": [
       "74484"
      ]
     },
     "execution_count": 7,
     "metadata": {},
     "output_type": "execute_result"
    }
   ],
   "source": [
    "# проверим, все ли id уникальны\n",
    "df_groups.id.nunique()"
   ]
  },
  {
   "cell_type": "code",
   "execution_count": 8,
   "id": "63bf73b9",
   "metadata": {
    "scrolled": true
   },
   "outputs": [
    {
     "data": {
      "text/plain": [
       "id     0\n",
       "grp    0\n",
       "dtype: int64"
      ]
     },
     "execution_count": 8,
     "metadata": {},
     "output_type": "execute_result"
    }
   ],
   "source": [
    "# проверим, есть ли пропущенные значения\n",
    "df_groups.isna().sum()"
   ]
  },
  {
   "cell_type": "code",
   "execution_count": 9,
   "id": "00e03bdb",
   "metadata": {},
   "outputs": [
    {
     "data": {
      "text/plain": [
       "B    59813\n",
       "A    14671\n",
       "Name: grp, dtype: int64"
      ]
     },
     "execution_count": 9,
     "metadata": {},
     "output_type": "execute_result"
    }
   ],
   "source": [
    "df_groups.grp.value_counts()"
   ]
  },
  {
   "cell_type": "code",
   "execution_count": 10,
   "id": "8e19c033",
   "metadata": {
    "scrolled": true
   },
   "outputs": [
    {
     "data": {
      "text/plain": [
       "B    80.3\n",
       "A    19.7\n",
       "Name: grp, dtype: float64"
      ]
     },
     "execution_count": 10,
     "metadata": {},
     "output_type": "execute_result"
    }
   ],
   "source": [
    "df_groups.grp.value_counts(normalize=True).mul(100).round(2)"
   ]
  },
  {
   "cell_type": "markdown",
   "id": "8dbafa66",
   "metadata": {},
   "source": [
    "Таблица <b>df_groups</b> содержит данные о распределении пользователей в контрольную (А) и тестовую (В) группы. Всего пользователей 74484. В контрольной группе - 14671 человек, в тестовой - 59813 человек. Разница в 4 раза. Это отличается от стандартного разделения 50%/50% и уступает ему в мощности АВ-теста."
   ]
  },
  {
   "cell_type": "code",
   "execution_count": 11,
   "id": "63576f79",
   "metadata": {},
   "outputs": [],
   "source": [
    "# загрузим таблицу с пользователями, зашедшими на платформу в дни эксперимента\n",
    "df_active_st = pd.read_csv('Проект_2_active_studs.csv')"
   ]
  },
  {
   "cell_type": "code",
   "execution_count": 12,
   "id": "d82fad5b",
   "metadata": {
    "scrolled": false
   },
   "outputs": [
    {
     "data": {
      "text/html": [
       "<div>\n",
       "<style scoped>\n",
       "    .dataframe tbody tr th:only-of-type {\n",
       "        vertical-align: middle;\n",
       "    }\n",
       "\n",
       "    .dataframe tbody tr th {\n",
       "        vertical-align: top;\n",
       "    }\n",
       "\n",
       "    .dataframe thead th {\n",
       "        text-align: right;\n",
       "    }\n",
       "</style>\n",
       "<table border=\"1\" class=\"dataframe\">\n",
       "  <thead>\n",
       "    <tr style=\"text-align: right;\">\n",
       "      <th></th>\n",
       "      <th>student_id</th>\n",
       "    </tr>\n",
       "  </thead>\n",
       "  <tbody>\n",
       "    <tr>\n",
       "      <th>0</th>\n",
       "      <td>581585</td>\n",
       "    </tr>\n",
       "    <tr>\n",
       "      <th>1</th>\n",
       "      <td>5723133</td>\n",
       "    </tr>\n",
       "    <tr>\n",
       "      <th>2</th>\n",
       "      <td>3276743</td>\n",
       "    </tr>\n",
       "    <tr>\n",
       "      <th>3</th>\n",
       "      <td>4238589</td>\n",
       "    </tr>\n",
       "    <tr>\n",
       "      <th>4</th>\n",
       "      <td>4475369</td>\n",
       "    </tr>\n",
       "  </tbody>\n",
       "</table>\n",
       "</div>"
      ],
      "text/plain": [
       "   student_id\n",
       "0      581585\n",
       "1     5723133\n",
       "2     3276743\n",
       "3     4238589\n",
       "4     4475369"
      ]
     },
     "execution_count": 12,
     "metadata": {},
     "output_type": "execute_result"
    }
   ],
   "source": [
    "df_active_st.head()"
   ]
  },
  {
   "cell_type": "code",
   "execution_count": 13,
   "id": "8d3401e7",
   "metadata": {},
   "outputs": [
    {
     "data": {
      "text/plain": [
       "student_id    int64\n",
       "dtype: object"
      ]
     },
     "execution_count": 13,
     "metadata": {},
     "output_type": "execute_result"
    }
   ],
   "source": [
    "# проверим тип данных\n",
    "df_active_st.dtypes"
   ]
  },
  {
   "cell_type": "code",
   "execution_count": 14,
   "id": "bd9cab59",
   "metadata": {
    "scrolled": true
   },
   "outputs": [
    {
     "data": {
      "text/plain": [
       "8341"
      ]
     },
     "execution_count": 14,
     "metadata": {},
     "output_type": "execute_result"
    }
   ],
   "source": [
    "# количество строк\n",
    "df_active_st.shape[0]"
   ]
  },
  {
   "cell_type": "code",
   "execution_count": 15,
   "id": "c8756a0e",
   "metadata": {},
   "outputs": [
    {
     "data": {
      "text/plain": [
       "student_id    8341\n",
       "dtype: int64"
      ]
     },
     "execution_count": 15,
     "metadata": {},
     "output_type": "execute_result"
    }
   ],
   "source": [
    "# проверим, все ли id уникальны\n",
    "df_active_st.nunique()"
   ]
  },
  {
   "cell_type": "markdown",
   "id": "da50892e",
   "metadata": {},
   "source": [
    "Таблица <b>df_active_st</b> содержит данные о пользователях, которые заходили на платформу в дни проведения АВ-теста. Таких пользователей 8341."
   ]
  },
  {
   "cell_type": "code",
   "execution_count": 16,
   "id": "0d1126f7",
   "metadata": {},
   "outputs": [],
   "source": [
    "# перед соединением с другими таблицами добавим в таблицу столбец, \n",
    "# которым отметим id, как активных пользователей\n",
    "df_active_st['active'] = 1"
   ]
  },
  {
   "cell_type": "code",
   "execution_count": 17,
   "id": "0cc9a0cc",
   "metadata": {
    "scrolled": true
   },
   "outputs": [
    {
     "data": {
      "text/html": [
       "<div>\n",
       "<style scoped>\n",
       "    .dataframe tbody tr th:only-of-type {\n",
       "        vertical-align: middle;\n",
       "    }\n",
       "\n",
       "    .dataframe tbody tr th {\n",
       "        vertical-align: top;\n",
       "    }\n",
       "\n",
       "    .dataframe thead th {\n",
       "        text-align: right;\n",
       "    }\n",
       "</style>\n",
       "<table border=\"1\" class=\"dataframe\">\n",
       "  <thead>\n",
       "    <tr style=\"text-align: right;\">\n",
       "      <th></th>\n",
       "      <th>id</th>\n",
       "      <th>grp</th>\n",
       "      <th>active</th>\n",
       "    </tr>\n",
       "  </thead>\n",
       "  <tbody>\n",
       "    <tr>\n",
       "      <th>0</th>\n",
       "      <td>1489</td>\n",
       "      <td>B</td>\n",
       "      <td>NaN</td>\n",
       "    </tr>\n",
       "    <tr>\n",
       "      <th>1</th>\n",
       "      <td>1627</td>\n",
       "      <td>A</td>\n",
       "      <td>1.0</td>\n",
       "    </tr>\n",
       "    <tr>\n",
       "      <th>2</th>\n",
       "      <td>1768</td>\n",
       "      <td>B</td>\n",
       "      <td>NaN</td>\n",
       "    </tr>\n",
       "    <tr>\n",
       "      <th>3</th>\n",
       "      <td>1783</td>\n",
       "      <td>B</td>\n",
       "      <td>NaN</td>\n",
       "    </tr>\n",
       "    <tr>\n",
       "      <th>4</th>\n",
       "      <td>1794</td>\n",
       "      <td>A</td>\n",
       "      <td>NaN</td>\n",
       "    </tr>\n",
       "  </tbody>\n",
       "</table>\n",
       "</div>"
      ],
      "text/plain": [
       "     id grp  active\n",
       "0  1489   B     NaN\n",
       "1  1627   A     1.0\n",
       "2  1768   B     NaN\n",
       "3  1783   B     NaN\n",
       "4  1794   A     NaN"
      ]
     },
     "execution_count": 17,
     "metadata": {},
     "output_type": "execute_result"
    }
   ],
   "source": [
    "# объединим таблицу распределения по группам с таблицей пользователей, \n",
    "# зашедших на платформу в дни эксперимента\n",
    "df_active_st_ab = df_groups\\\n",
    "                    .merge(df_active_st,\n",
    "                           how='left',\n",
    "                           right_on='student_id',\n",
    "                           left_on='id')\\\n",
    "                    .drop(columns='student_id')\n",
    "df_active_st_ab.head()"
   ]
  },
  {
   "cell_type": "code",
   "execution_count": 18,
   "id": "54a6e2a3",
   "metadata": {
    "scrolled": false
   },
   "outputs": [
    {
     "data": {
      "text/plain": [
       "74484"
      ]
     },
     "execution_count": 18,
     "metadata": {},
     "output_type": "execute_result"
    }
   ],
   "source": [
    "# всего строк в таблице\n",
    "df_active_st_ab.shape[0]"
   ]
  },
  {
   "cell_type": "code",
   "execution_count": 19,
   "id": "27372aa9",
   "metadata": {},
   "outputs": [
    {
     "data": {
      "text/plain": [
       "8328"
      ]
     },
     "execution_count": 19,
     "metadata": {},
     "output_type": "execute_result"
    }
   ],
   "source": [
    "# количество пользователей, которым присвоены группы и которые заходили на платформу в дни эксперимента\n",
    "df_active_st_ab.active.notna().sum()"
   ]
  },
  {
   "cell_type": "code",
   "execution_count": 20,
   "id": "7b3de16f",
   "metadata": {
    "scrolled": true
   },
   "outputs": [
    {
     "data": {
      "text/plain": [
       "13"
      ]
     },
     "execution_count": 20,
     "metadata": {},
     "output_type": "execute_result"
    }
   ],
   "source": [
    "# посмотрим разницу с исходной таблицей df_active_st\n",
    "8341 - 8328"
   ]
  },
  {
   "cell_type": "markdown",
   "id": "3ab8418c",
   "metadata": {},
   "source": [
    "13 посетителей платформы в дни теста - новые, им не присвоены группы. Они отсеялись при объединении таблиц, мы не будем учитывать их в анализе."
   ]
  },
  {
   "cell_type": "code",
   "execution_count": 21,
   "id": "802ec60d",
   "metadata": {},
   "outputs": [
    {
     "data": {
      "text/html": [
       "<div>\n",
       "<style scoped>\n",
       "    .dataframe tbody tr th:only-of-type {\n",
       "        vertical-align: middle;\n",
       "    }\n",
       "\n",
       "    .dataframe tbody tr th {\n",
       "        vertical-align: top;\n",
       "    }\n",
       "\n",
       "    .dataframe thead th {\n",
       "        text-align: right;\n",
       "    }\n",
       "</style>\n",
       "<table border=\"1\" class=\"dataframe\">\n",
       "  <thead>\n",
       "    <tr style=\"text-align: right;\">\n",
       "      <th></th>\n",
       "      <th>student_id</th>\n",
       "      <th>rev</th>\n",
       "    </tr>\n",
       "  </thead>\n",
       "  <tbody>\n",
       "    <tr>\n",
       "      <th>0</th>\n",
       "      <td>1627</td>\n",
       "      <td>990.0</td>\n",
       "    </tr>\n",
       "    <tr>\n",
       "      <th>1</th>\n",
       "      <td>3185</td>\n",
       "      <td>690.0</td>\n",
       "    </tr>\n",
       "    <tr>\n",
       "      <th>2</th>\n",
       "      <td>25973</td>\n",
       "      <td>690.0</td>\n",
       "    </tr>\n",
       "    <tr>\n",
       "      <th>3</th>\n",
       "      <td>26280</td>\n",
       "      <td>690.0</td>\n",
       "    </tr>\n",
       "    <tr>\n",
       "      <th>4</th>\n",
       "      <td>100300</td>\n",
       "      <td>990.0</td>\n",
       "    </tr>\n",
       "  </tbody>\n",
       "</table>\n",
       "</div>"
      ],
      "text/plain": [
       "   student_id    rev\n",
       "0        1627  990.0\n",
       "1        3185  690.0\n",
       "2       25973  690.0\n",
       "3       26280  690.0\n",
       "4      100300  990.0"
      ]
     },
     "execution_count": 21,
     "metadata": {},
     "output_type": "execute_result"
    }
   ],
   "source": [
    "# загрузим таблицу с оплатами в дни проведения эксперимента\n",
    "df_checks = pd.read_csv('Проект_2_checks.csv', sep=';')\n",
    "df_checks.head()"
   ]
  },
  {
   "cell_type": "code",
   "execution_count": 22,
   "id": "556a786e",
   "metadata": {
    "scrolled": false
   },
   "outputs": [
    {
     "data": {
      "text/plain": [
       "student_id      int64\n",
       "rev           float64\n",
       "dtype: object"
      ]
     },
     "execution_count": 22,
     "metadata": {},
     "output_type": "execute_result"
    }
   ],
   "source": [
    "# проверим формат данных\n",
    "df_checks.dtypes"
   ]
  },
  {
   "cell_type": "code",
   "execution_count": 23,
   "id": "d37b89a9",
   "metadata": {},
   "outputs": [
    {
     "data": {
      "text/plain": [
       "541"
      ]
     },
     "execution_count": 23,
     "metadata": {},
     "output_type": "execute_result"
    }
   ],
   "source": [
    "# количество записей\n",
    "df_checks.shape[0]"
   ]
  },
  {
   "cell_type": "code",
   "execution_count": 24,
   "id": "096fc84b",
   "metadata": {},
   "outputs": [
    {
     "data": {
      "text/plain": [
       "541"
      ]
     },
     "execution_count": 24,
     "metadata": {},
     "output_type": "execute_result"
    }
   ],
   "source": [
    "df_checks.student_id.nunique()"
   ]
  },
  {
   "cell_type": "code",
   "execution_count": 25,
   "id": "723496c9",
   "metadata": {
    "scrolled": false
   },
   "outputs": [
    {
     "data": {
      "text/plain": [
       "student_id    0\n",
       "rev           0\n",
       "dtype: int64"
      ]
     },
     "execution_count": 25,
     "metadata": {},
     "output_type": "execute_result"
    }
   ],
   "source": [
    "# проверим, есть ли записи с ошибками\n",
    "df_checks.isna().sum()"
   ]
  },
  {
   "cell_type": "code",
   "execution_count": 26,
   "id": "026e55fd",
   "metadata": {
    "scrolled": false
   },
   "outputs": [
    {
     "data": {
      "text/plain": [
       "1900.0000    97\n",
       "290.0000     94\n",
       "690.0000     78\n",
       "199.0000     46\n",
       "990.0000     41\n",
       "1900.0001    36\n",
       "840.0000     27\n",
       "1140.0000    25\n",
       "580.0000     15\n",
       "590.0000     11\n",
       "398.0000      9\n",
       "1530.0000     8\n",
       "870.0000      6\n",
       "3660.0000     5\n",
       "2910.0000     4\n",
       "1980.0000     4\n",
       "2890.0000     4\n",
       "1160.0000     3\n",
       "489.0000      3\n",
       "2099.0000     3\n",
       "1180.0000     2\n",
       "2820.0000     2\n",
       "2220.0000     2\n",
       "1830.0000     1\n",
       "1968.0000     1\n",
       "1050.0000     1\n",
       "597.0000      1\n",
       "630.0000      1\n",
       "4650.0000     1\n",
       "880.0000      1\n",
       "1039.0000     1\n",
       "3260.0000     1\n",
       "1339.0000     1\n",
       "3040.0000     1\n",
       "796.0000      1\n",
       "2190.0000     1\n",
       "1388.0000     1\n",
       "2900.0000     1\n",
       "1729.0000     1\n",
       "Name: rev, dtype: int64"
      ]
     },
     "execution_count": 26,
     "metadata": {},
     "output_type": "execute_result"
    }
   ],
   "source": [
    "df_checks.rev.value_counts()"
   ]
  },
  {
   "cell_type": "code",
   "execution_count": 27,
   "id": "17b8f070",
   "metadata": {
    "scrolled": true
   },
   "outputs": [
    {
     "data": {
      "text/html": [
       "<div>\n",
       "<style scoped>\n",
       "    .dataframe tbody tr th:only-of-type {\n",
       "        vertical-align: middle;\n",
       "    }\n",
       "\n",
       "    .dataframe tbody tr th {\n",
       "        vertical-align: top;\n",
       "    }\n",
       "\n",
       "    .dataframe thead th {\n",
       "        text-align: right;\n",
       "    }\n",
       "</style>\n",
       "<table border=\"1\" class=\"dataframe\">\n",
       "  <thead>\n",
       "    <tr style=\"text-align: right;\">\n",
       "      <th></th>\n",
       "      <th>id</th>\n",
       "      <th>grp</th>\n",
       "      <th>active</th>\n",
       "      <th>rev</th>\n",
       "    </tr>\n",
       "  </thead>\n",
       "  <tbody>\n",
       "    <tr>\n",
       "      <th>0</th>\n",
       "      <td>1489</td>\n",
       "      <td>B</td>\n",
       "      <td>NaN</td>\n",
       "      <td>NaN</td>\n",
       "    </tr>\n",
       "    <tr>\n",
       "      <th>1</th>\n",
       "      <td>1627</td>\n",
       "      <td>A</td>\n",
       "      <td>1.0</td>\n",
       "      <td>990.0</td>\n",
       "    </tr>\n",
       "    <tr>\n",
       "      <th>2</th>\n",
       "      <td>1768</td>\n",
       "      <td>B</td>\n",
       "      <td>NaN</td>\n",
       "      <td>NaN</td>\n",
       "    </tr>\n",
       "    <tr>\n",
       "      <th>3</th>\n",
       "      <td>1783</td>\n",
       "      <td>B</td>\n",
       "      <td>NaN</td>\n",
       "      <td>NaN</td>\n",
       "    </tr>\n",
       "    <tr>\n",
       "      <th>4</th>\n",
       "      <td>1794</td>\n",
       "      <td>A</td>\n",
       "      <td>NaN</td>\n",
       "      <td>NaN</td>\n",
       "    </tr>\n",
       "  </tbody>\n",
       "</table>\n",
       "</div>"
      ],
      "text/plain": [
       "     id grp  active    rev\n",
       "0  1489   B     NaN    NaN\n",
       "1  1627   A     1.0  990.0\n",
       "2  1768   B     NaN    NaN\n",
       "3  1783   B     NaN    NaN\n",
       "4  1794   A     NaN    NaN"
      ]
     },
     "execution_count": 27,
     "metadata": {},
     "output_type": "execute_result"
    }
   ],
   "source": [
    "# объединим с полученными ранее данными\n",
    "df = df_active_st_ab.merge(df_checks, \n",
    "                           how='left', \n",
    "                           left_on='id', \n",
    "                           right_on='student_id')\\\n",
    "                    .drop(columns='student_id')\n",
    "df.head()"
   ]
  },
  {
   "cell_type": "code",
   "execution_count": 28,
   "id": "a236f492",
   "metadata": {},
   "outputs": [
    {
     "data": {
      "text/plain": [
       "74484"
      ]
     },
     "execution_count": 28,
     "metadata": {},
     "output_type": "execute_result"
    }
   ],
   "source": [
    "df.shape[0]"
   ]
  },
  {
   "cell_type": "code",
   "execution_count": 29,
   "id": "d78fabce",
   "metadata": {
    "scrolled": true
   },
   "outputs": [
    {
     "data": {
      "text/plain": [
       "540"
      ]
     },
     "execution_count": 29,
     "metadata": {},
     "output_type": "execute_result"
    }
   ],
   "source": [
    "df.rev.notna().sum()"
   ]
  },
  {
   "cell_type": "markdown",
   "id": "6e81ee83",
   "metadata": {},
   "source": [
    "В таблице df_checks было на одно значение оплат больше. Значит, одна оплата была проведена новым пользователем."
   ]
  },
  {
   "cell_type": "code",
   "execution_count": 30,
   "id": "d3d828b0",
   "metadata": {},
   "outputs": [
    {
     "data": {
      "text/plain": [
       "149"
      ]
     },
     "execution_count": 30,
     "metadata": {},
     "output_type": "execute_result"
    }
   ],
   "source": [
    "# проверим, есть ли такое, что пользователь не заходил на платформу, а оплата была\n",
    "df[df.active.isna()].rev.notna().sum()"
   ]
  },
  {
   "cell_type": "code",
   "execution_count": 31,
   "id": "9e9c67c5",
   "metadata": {},
   "outputs": [
    {
     "data": {
      "text/plain": [
       "690.0000     61\n",
       "290.0000     24\n",
       "990.0000     19\n",
       "199.0000     14\n",
       "1140.0000    14\n",
       "580.0000      4\n",
       "1900.0000     4\n",
       "840.0000      3\n",
       "398.0000      2\n",
       "1980.0000     1\n",
       "630.0000      1\n",
       "1900.0001     1\n",
       "1180.0000     1\n",
       "Name: rev, dtype: int64"
      ]
     },
     "execution_count": 31,
     "metadata": {},
     "output_type": "execute_result"
    }
   ],
   "source": [
    "# посмотрим, что это за оплаты, может быть, автоплатежи, оплата ежемесячной подписки? \n",
    "# Если да, то такие оплаты стоит исключить из анализа, тк клиент не видел нашу новую механику оплаты услуг\n",
    "df[df.active.isna()].rev.value_counts()"
   ]
  },
  {
   "cell_type": "markdown",
   "id": "9734411d",
   "metadata": {},
   "source": [
    "Видим, что у некоторых пользователей, отсутствующих в таблице активных, то есть заходивших на платформу в дни проведения эксперимента, в эти дни была оплата. Но суммы очень разные, что говорит о том, что это вряд ли автоплатежи, ежемесячные платежи за подписку. (Но чтобы подтвердить этот вывод стоит изучить наш продукт и то, какие суммы могут проходить как автоплатежи) Приходим к выводу, что отсутствие данных пользователей в таблице активных - скорее всего ошибка логирования. Не будем исключать их из анализа."
   ]
  },
  {
   "cell_type": "code",
   "execution_count": 32,
   "id": "1b3cf97f",
   "metadata": {},
   "outputs": [],
   "source": [
    "# исправим показатель активности в таблице у тех пользователей, \n",
    "# которые совершили покупку в дни эксперимента\n",
    "df.loc[df.rev.notna(), 'active'] = 1"
   ]
  },
  {
   "cell_type": "code",
   "execution_count": 33,
   "id": "04dbb959",
   "metadata": {
    "scrolled": false
   },
   "outputs": [
    {
     "data": {
      "text/html": [
       "<div>\n",
       "<style scoped>\n",
       "    .dataframe tbody tr th:only-of-type {\n",
       "        vertical-align: middle;\n",
       "    }\n",
       "\n",
       "    .dataframe tbody tr th {\n",
       "        vertical-align: top;\n",
       "    }\n",
       "\n",
       "    .dataframe thead th {\n",
       "        text-align: right;\n",
       "    }\n",
       "</style>\n",
       "<table border=\"1\" class=\"dataframe\">\n",
       "  <thead>\n",
       "    <tr style=\"text-align: right;\">\n",
       "      <th></th>\n",
       "      <th>id</th>\n",
       "      <th>grp</th>\n",
       "      <th>active</th>\n",
       "      <th>rev</th>\n",
       "    </tr>\n",
       "  </thead>\n",
       "  <tbody>\n",
       "    <tr>\n",
       "      <th>1</th>\n",
       "      <td>1627</td>\n",
       "      <td>A</td>\n",
       "      <td>1.0</td>\n",
       "      <td>990.0</td>\n",
       "    </tr>\n",
       "    <tr>\n",
       "      <th>39</th>\n",
       "      <td>3185</td>\n",
       "      <td>B</td>\n",
       "      <td>1.0</td>\n",
       "      <td>690.0</td>\n",
       "    </tr>\n",
       "    <tr>\n",
       "      <th>121</th>\n",
       "      <td>25973</td>\n",
       "      <td>B</td>\n",
       "      <td>1.0</td>\n",
       "      <td>690.0</td>\n",
       "    </tr>\n",
       "    <tr>\n",
       "      <th>125</th>\n",
       "      <td>26280</td>\n",
       "      <td>B</td>\n",
       "      <td>1.0</td>\n",
       "      <td>690.0</td>\n",
       "    </tr>\n",
       "    <tr>\n",
       "      <th>220</th>\n",
       "      <td>100300</td>\n",
       "      <td>B</td>\n",
       "      <td>1.0</td>\n",
       "      <td>990.0</td>\n",
       "    </tr>\n",
       "    <tr>\n",
       "      <th>...</th>\n",
       "      <td>...</td>\n",
       "      <td>...</td>\n",
       "      <td>...</td>\n",
       "      <td>...</td>\n",
       "    </tr>\n",
       "    <tr>\n",
       "      <th>74251</th>\n",
       "      <td>5609523</td>\n",
       "      <td>B</td>\n",
       "      <td>1.0</td>\n",
       "      <td>1900.0</td>\n",
       "    </tr>\n",
       "    <tr>\n",
       "      <th>74365</th>\n",
       "      <td>5645737</td>\n",
       "      <td>B</td>\n",
       "      <td>1.0</td>\n",
       "      <td>1900.0</td>\n",
       "    </tr>\n",
       "    <tr>\n",
       "      <th>74381</th>\n",
       "      <td>5651566</td>\n",
       "      <td>B</td>\n",
       "      <td>1.0</td>\n",
       "      <td>1900.0</td>\n",
       "    </tr>\n",
       "    <tr>\n",
       "      <th>74402</th>\n",
       "      <td>5662322</td>\n",
       "      <td>B</td>\n",
       "      <td>1.0</td>\n",
       "      <td>1900.0</td>\n",
       "    </tr>\n",
       "    <tr>\n",
       "      <th>74452</th>\n",
       "      <td>5681918</td>\n",
       "      <td>B</td>\n",
       "      <td>1.0</td>\n",
       "      <td>1900.0</td>\n",
       "    </tr>\n",
       "  </tbody>\n",
       "</table>\n",
       "<p>540 rows × 4 columns</p>\n",
       "</div>"
      ],
      "text/plain": [
       "            id grp  active     rev\n",
       "1         1627   A     1.0   990.0\n",
       "39        3185   B     1.0   690.0\n",
       "121      25973   B     1.0   690.0\n",
       "125      26280   B     1.0   690.0\n",
       "220     100300   B     1.0   990.0\n",
       "...        ...  ..     ...     ...\n",
       "74251  5609523   B     1.0  1900.0\n",
       "74365  5645737   B     1.0  1900.0\n",
       "74381  5651566   B     1.0  1900.0\n",
       "74402  5662322   B     1.0  1900.0\n",
       "74452  5681918   B     1.0  1900.0\n",
       "\n",
       "[540 rows x 4 columns]"
      ]
     },
     "execution_count": 33,
     "metadata": {},
     "output_type": "execute_result"
    }
   ],
   "source": [
    "df[df.rev.notna()]"
   ]
  },
  {
   "cell_type": "markdown",
   "id": "2460d941",
   "metadata": {},
   "source": [
    "Итак, из трех таблиц (df_groups, df_active_st, df_checks) у нас получается своеобразная воронка:  \n",
    "Все пользователи (74484) ->  \n",
    "-> пользователи, которые зашли во время эксперимента (8341) ->  \n",
    "-> пользователи, совершившие целевое действие - покупку (541)\n",
    "\n",
    "Пробуя новую механику оплаты услуг на сайте, мы предполагаем, что пользователям станет удобнее совершать покупки. Нас интересуют только те пользователи, которые увидели нововведение, значит, в анализе будут участвовать \"активные\" пользователи. Их поведение может измениться в двух направлениях - в частоте покупок и в объемах покупок. \n",
    "При проведении АВ-теста будем смотреть на метрики:\n",
    "- *конверсию активных пользователей в целевое действие (покупку) СR* - так мы увидим, стали ли клиенты активнее совершать покупки или нет?\n",
    "- *средний размер трат клиентов (в расчете на платящих клиентов) ARPPU* - так мы увидим, выросли ли траты клиента или нет?"
   ]
  },
  {
   "cell_type": "code",
   "execution_count": 34,
   "id": "890835bd",
   "metadata": {},
   "outputs": [
    {
     "data": {
      "text/html": [
       "<div>\n",
       "<style scoped>\n",
       "    .dataframe tbody tr th:only-of-type {\n",
       "        vertical-align: middle;\n",
       "    }\n",
       "\n",
       "    .dataframe tbody tr th {\n",
       "        vertical-align: top;\n",
       "    }\n",
       "\n",
       "    .dataframe thead th {\n",
       "        text-align: right;\n",
       "    }\n",
       "</style>\n",
       "<table border=\"1\" class=\"dataframe\">\n",
       "  <thead>\n",
       "    <tr style=\"text-align: right;\">\n",
       "      <th></th>\n",
       "      <th>id</th>\n",
       "      <th>grp</th>\n",
       "      <th>active</th>\n",
       "      <th>rev</th>\n",
       "    </tr>\n",
       "  </thead>\n",
       "  <tbody>\n",
       "    <tr>\n",
       "      <th>1</th>\n",
       "      <td>1627</td>\n",
       "      <td>A</td>\n",
       "      <td>1.0</td>\n",
       "      <td>990.0</td>\n",
       "    </tr>\n",
       "    <tr>\n",
       "      <th>10</th>\n",
       "      <td>2085</td>\n",
       "      <td>B</td>\n",
       "      <td>1.0</td>\n",
       "      <td>NaN</td>\n",
       "    </tr>\n",
       "    <tr>\n",
       "      <th>12</th>\n",
       "      <td>2215</td>\n",
       "      <td>B</td>\n",
       "      <td>1.0</td>\n",
       "      <td>NaN</td>\n",
       "    </tr>\n",
       "    <tr>\n",
       "      <th>39</th>\n",
       "      <td>3185</td>\n",
       "      <td>B</td>\n",
       "      <td>1.0</td>\n",
       "      <td>690.0</td>\n",
       "    </tr>\n",
       "    <tr>\n",
       "      <th>43</th>\n",
       "      <td>3391</td>\n",
       "      <td>A</td>\n",
       "      <td>1.0</td>\n",
       "      <td>NaN</td>\n",
       "    </tr>\n",
       "  </tbody>\n",
       "</table>\n",
       "</div>"
      ],
      "text/plain": [
       "      id grp  active    rev\n",
       "1   1627   A     1.0  990.0\n",
       "10  2085   B     1.0    NaN\n",
       "12  2215   B     1.0    NaN\n",
       "39  3185   B     1.0  690.0\n",
       "43  3391   A     1.0    NaN"
      ]
     },
     "execution_count": 34,
     "metadata": {},
     "output_type": "execute_result"
    }
   ],
   "source": [
    "# оставим для анализа только \"активных\" пользователей \n",
    "# (и тех, кого мы добавили к \"активным\" на прошлом шаге)\n",
    "df_act = df.query('active==1').copy()\n",
    "df_act.head()"
   ]
  },
  {
   "cell_type": "code",
   "execution_count": 35,
   "id": "59555d78",
   "metadata": {
    "scrolled": true
   },
   "outputs": [
    {
     "data": {
      "text/plain": [
       "B    81.55\n",
       "A    18.45\n",
       "Name: grp, dtype: float64"
      ]
     },
     "execution_count": 35,
     "metadata": {},
     "output_type": "execute_result"
    }
   ],
   "source": [
    "# посмотрим, сохранилось ли распределение на тестовую и контрольную группы среди \"активных\" пользователей\n",
    "df_act.grp.value_counts(normalize=True).mul(100).round(2)"
   ]
  },
  {
   "cell_type": "code",
   "execution_count": 36,
   "id": "d2f7d54f",
   "metadata": {
    "scrolled": true
   },
   "outputs": [
    {
     "data": {
      "text/html": [
       "<div>\n",
       "<style scoped>\n",
       "    .dataframe tbody tr th:only-of-type {\n",
       "        vertical-align: middle;\n",
       "    }\n",
       "\n",
       "    .dataframe tbody tr th {\n",
       "        vertical-align: top;\n",
       "    }\n",
       "\n",
       "    .dataframe thead th {\n",
       "        text-align: right;\n",
       "    }\n",
       "</style>\n",
       "<table border=\"1\" class=\"dataframe\">\n",
       "  <thead>\n",
       "    <tr style=\"text-align: right;\">\n",
       "      <th></th>\n",
       "      <th>id</th>\n",
       "      <th>grp</th>\n",
       "      <th>active</th>\n",
       "      <th>rev</th>\n",
       "    </tr>\n",
       "  </thead>\n",
       "  <tbody>\n",
       "    <tr>\n",
       "      <th>1</th>\n",
       "      <td>1627</td>\n",
       "      <td>A</td>\n",
       "      <td>1.0</td>\n",
       "      <td>990.0</td>\n",
       "    </tr>\n",
       "    <tr>\n",
       "      <th>10</th>\n",
       "      <td>2085</td>\n",
       "      <td>B</td>\n",
       "      <td>1.0</td>\n",
       "      <td>0.0</td>\n",
       "    </tr>\n",
       "    <tr>\n",
       "      <th>12</th>\n",
       "      <td>2215</td>\n",
       "      <td>B</td>\n",
       "      <td>1.0</td>\n",
       "      <td>0.0</td>\n",
       "    </tr>\n",
       "    <tr>\n",
       "      <th>39</th>\n",
       "      <td>3185</td>\n",
       "      <td>B</td>\n",
       "      <td>1.0</td>\n",
       "      <td>690.0</td>\n",
       "    </tr>\n",
       "    <tr>\n",
       "      <th>43</th>\n",
       "      <td>3391</td>\n",
       "      <td>A</td>\n",
       "      <td>1.0</td>\n",
       "      <td>0.0</td>\n",
       "    </tr>\n",
       "  </tbody>\n",
       "</table>\n",
       "</div>"
      ],
      "text/plain": [
       "      id grp  active    rev\n",
       "1   1627   A     1.0  990.0\n",
       "10  2085   B     1.0    0.0\n",
       "12  2215   B     1.0    0.0\n",
       "39  3185   B     1.0  690.0\n",
       "43  3391   A     1.0    0.0"
      ]
     },
     "execution_count": 36,
     "metadata": {},
     "output_type": "execute_result"
    }
   ],
   "source": [
    "# заполним отсутствующие суммы покупок нулями\n",
    "df_act.rev.fillna(0, inplace=True)\n",
    "df_act.head()"
   ]
  },
  {
   "cell_type": "code",
   "execution_count": 37,
   "id": "3b05e072",
   "metadata": {},
   "outputs": [
    {
     "data": {
      "text/html": [
       "<div>\n",
       "<style scoped>\n",
       "    .dataframe tbody tr th:only-of-type {\n",
       "        vertical-align: middle;\n",
       "    }\n",
       "\n",
       "    .dataframe tbody tr th {\n",
       "        vertical-align: top;\n",
       "    }\n",
       "\n",
       "    .dataframe thead th {\n",
       "        text-align: right;\n",
       "    }\n",
       "</style>\n",
       "<table border=\"1\" class=\"dataframe\">\n",
       "  <thead>\n",
       "    <tr style=\"text-align: right;\">\n",
       "      <th></th>\n",
       "      <th>id</th>\n",
       "      <th>grp</th>\n",
       "      <th>active</th>\n",
       "      <th>rev</th>\n",
       "      <th>converted</th>\n",
       "    </tr>\n",
       "  </thead>\n",
       "  <tbody>\n",
       "    <tr>\n",
       "      <th>1</th>\n",
       "      <td>1627</td>\n",
       "      <td>A</td>\n",
       "      <td>1.0</td>\n",
       "      <td>990.0</td>\n",
       "      <td>yes</td>\n",
       "    </tr>\n",
       "    <tr>\n",
       "      <th>10</th>\n",
       "      <td>2085</td>\n",
       "      <td>B</td>\n",
       "      <td>1.0</td>\n",
       "      <td>0.0</td>\n",
       "      <td>no</td>\n",
       "    </tr>\n",
       "    <tr>\n",
       "      <th>12</th>\n",
       "      <td>2215</td>\n",
       "      <td>B</td>\n",
       "      <td>1.0</td>\n",
       "      <td>0.0</td>\n",
       "      <td>no</td>\n",
       "    </tr>\n",
       "    <tr>\n",
       "      <th>39</th>\n",
       "      <td>3185</td>\n",
       "      <td>B</td>\n",
       "      <td>1.0</td>\n",
       "      <td>690.0</td>\n",
       "      <td>yes</td>\n",
       "    </tr>\n",
       "    <tr>\n",
       "      <th>43</th>\n",
       "      <td>3391</td>\n",
       "      <td>A</td>\n",
       "      <td>1.0</td>\n",
       "      <td>0.0</td>\n",
       "      <td>no</td>\n",
       "    </tr>\n",
       "  </tbody>\n",
       "</table>\n",
       "</div>"
      ],
      "text/plain": [
       "      id grp  active    rev converted\n",
       "1   1627   A     1.0  990.0       yes\n",
       "10  2085   B     1.0    0.0        no\n",
       "12  2215   B     1.0    0.0        no\n",
       "39  3185   B     1.0  690.0       yes\n",
       "43  3391   A     1.0    0.0        no"
      ]
     },
     "execution_count": 37,
     "metadata": {},
     "output_type": "execute_result"
    }
   ],
   "source": [
    "# добавим столбец, который будет содержать отметку, есть ли конверсия в покупку у пользователя\n",
    "df_act['converted'] = df_act.rev.apply(lambda x: 'no' if x == 0 else 'yes')\n",
    "df_act.head()"
   ]
  },
  {
   "cell_type": "markdown",
   "id": "0adbcdae",
   "metadata": {},
   "source": [
    "Конверсия - качественная переменная с распределением Бернулли. Сравниваемых групп две и они независимы.  \n",
    "Поэтому мы с помощью критерия Хи-квадрат проверим нулевую гипотезу, что статистически значимых различий между конверсиями тестовой и контрольной выборок нет. Уровень статистической значимости - 0.05."
   ]
  },
  {
   "cell_type": "code",
   "execution_count": 38,
   "id": "6e33cc20",
   "metadata": {},
   "outputs": [
    {
     "data": {
      "text/html": [
       "<div>\n",
       "<style scoped>\n",
       "    .dataframe tbody tr th:only-of-type {\n",
       "        vertical-align: middle;\n",
       "    }\n",
       "\n",
       "    .dataframe tbody tr th {\n",
       "        vertical-align: top;\n",
       "    }\n",
       "\n",
       "    .dataframe thead th {\n",
       "        text-align: right;\n",
       "    }\n",
       "</style>\n",
       "<table border=\"1\" class=\"dataframe\">\n",
       "  <thead>\n",
       "    <tr style=\"text-align: right;\">\n",
       "      <th>converted</th>\n",
       "      <th>no</th>\n",
       "      <th>yes</th>\n",
       "    </tr>\n",
       "    <tr>\n",
       "      <th>grp</th>\n",
       "      <th></th>\n",
       "      <th></th>\n",
       "    </tr>\n",
       "  </thead>\n",
       "  <tbody>\n",
       "    <tr>\n",
       "      <th>A</th>\n",
       "      <td>1457</td>\n",
       "      <td>107</td>\n",
       "    </tr>\n",
       "    <tr>\n",
       "      <th>B</th>\n",
       "      <td>6480</td>\n",
       "      <td>433</td>\n",
       "    </tr>\n",
       "  </tbody>\n",
       "</table>\n",
       "</div>"
      ],
      "text/plain": [
       "converted    no  yes\n",
       "grp                 \n",
       "A          1457  107\n",
       "B          6480  433"
      ]
     },
     "execution_count": 38,
     "metadata": {},
     "output_type": "execute_result"
    }
   ],
   "source": [
    "# сгруппируем данные\n",
    "pd.crosstab(df_act.grp, df_act.converted)"
   ]
  },
  {
   "cell_type": "code",
   "execution_count": 39,
   "id": "bfe4c0b9",
   "metadata": {},
   "outputs": [
    {
     "data": {
      "text/plain": [
       "(0.6204959154128902, 0.4308630604023529)"
      ]
     },
     "execution_count": 39,
     "metadata": {},
     "output_type": "execute_result"
    }
   ],
   "source": [
    "stat, p, dof, expected = chi2_contingency(pd.crosstab(df_act.grp, df_act.converted))\n",
    "stat, p"
   ]
  },
  {
   "cell_type": "markdown",
   "id": "da1a26fe",
   "metadata": {},
   "source": [
    "P-value=0.43, что больше, чем порог уровня значимости 0.05. Поэтому мы не можем отклонить нулевую гипотезу, не удалось найти статистически значимых различий между конверсией активных пользователей в покупку контрольной и тестовой групп."
   ]
  },
  {
   "cell_type": "code",
   "execution_count": 40,
   "id": "73a64f38",
   "metadata": {},
   "outputs": [
    {
     "data": {
      "text/plain": [
       "no     93.16\n",
       "yes     6.84\n",
       "Name: converted, dtype: float64"
      ]
     },
     "execution_count": 40,
     "metadata": {},
     "output_type": "execute_result"
    },
    {
     "data": {
      "image/png": "[encoded data removed]",
      "text/plain": [
       "<Figure size 432x288 with 1 Axes>"
      ]
     },
     "metadata": {
      "needs_background": "light"
     },
     "output_type": "display_data"
    }
   ],
   "source": [
    "plt.title('Group A')\n",
    "sns.countplot(data=df_act.query('grp==\"A\"'), \n",
    "              x=\"converted\", \n",
    "              order=['yes', 'no'], \n",
    "              palette='Paired');\n",
    "df_act.query('grp==\"A\"').converted.value_counts(normalize=True).mul(100).round(2)"
   ]
  },
  {
   "cell_type": "code",
   "execution_count": 41,
   "id": "64e8b65b",
   "metadata": {
    "scrolled": false
   },
   "outputs": [
    {
     "data": {
      "text/plain": [
       "no     93.74\n",
       "yes     6.26\n",
       "Name: converted, dtype: float64"
      ]
     },
     "execution_count": 41,
     "metadata": {},
     "output_type": "execute_result"
    },
    {
     "data": {
      "image/png": "[encoded data removed]",
      "text/plain": [
       "<Figure size 432x288 with 1 Axes>"
      ]
     },
     "metadata": {
      "needs_background": "light"
     },
     "output_type": "display_data"
    }
   ],
   "source": [
    "plt.title('Group B')\n",
    "sns.countplot(data=df_act.query('grp==\"B\"'), x=\"converted\", order=['yes', 'no'], palette='Paired');\n",
    "df_act.query('grp==\"B\"').converted.value_counts(normalize=True).mul(100).round(2)"
   ]
  },
  {
   "cell_type": "markdown",
   "id": "95dd460d",
   "metadata": {},
   "source": [
    "Видим, что конверсии тестовой и контрольной выборок близки друг к другу: 6.84% в контрольной и 6.26% в тестовой.  \n",
    "Итак, статистически значимая разница конверсии в покупку не найдена. Возможно, это произошло из-за недостаточной мощности теста, на которую повлияло в том числе неравное распределение клиентов в тестовую и контрольную группы."
   ]
  },
  {
   "cell_type": "markdown",
   "id": "dc113e5e",
   "metadata": {},
   "source": [
    "Теперь сравним ARPPU в двух группах. Для начала подготовим таблицу, оставим только строки с совершенными платежами."
   ]
  },
  {
   "cell_type": "code",
   "execution_count": 42,
   "id": "c6d5caf5",
   "metadata": {},
   "outputs": [
    {
     "data": {
      "text/html": [
       "<div>\n",
       "<style scoped>\n",
       "    .dataframe tbody tr th:only-of-type {\n",
       "        vertical-align: middle;\n",
       "    }\n",
       "\n",
       "    .dataframe tbody tr th {\n",
       "        vertical-align: top;\n",
       "    }\n",
       "\n",
       "    .dataframe thead th {\n",
       "        text-align: right;\n",
       "    }\n",
       "</style>\n",
       "<table border=\"1\" class=\"dataframe\">\n",
       "  <thead>\n",
       "    <tr style=\"text-align: right;\">\n",
       "      <th></th>\n",
       "      <th>id</th>\n",
       "      <th>grp</th>\n",
       "      <th>active</th>\n",
       "      <th>rev</th>\n",
       "      <th>converted</th>\n",
       "    </tr>\n",
       "  </thead>\n",
       "  <tbody>\n",
       "    <tr>\n",
       "      <th>1</th>\n",
       "      <td>1627</td>\n",
       "      <td>A</td>\n",
       "      <td>1.0</td>\n",
       "      <td>990.0</td>\n",
       "      <td>yes</td>\n",
       "    </tr>\n",
       "    <tr>\n",
       "      <th>39</th>\n",
       "      <td>3185</td>\n",
       "      <td>B</td>\n",
       "      <td>1.0</td>\n",
       "      <td>690.0</td>\n",
       "      <td>yes</td>\n",
       "    </tr>\n",
       "    <tr>\n",
       "      <th>121</th>\n",
       "      <td>25973</td>\n",
       "      <td>B</td>\n",
       "      <td>1.0</td>\n",
       "      <td>690.0</td>\n",
       "      <td>yes</td>\n",
       "    </tr>\n",
       "    <tr>\n",
       "      <th>125</th>\n",
       "      <td>26280</td>\n",
       "      <td>B</td>\n",
       "      <td>1.0</td>\n",
       "      <td>690.0</td>\n",
       "      <td>yes</td>\n",
       "    </tr>\n",
       "    <tr>\n",
       "      <th>220</th>\n",
       "      <td>100300</td>\n",
       "      <td>B</td>\n",
       "      <td>1.0</td>\n",
       "      <td>990.0</td>\n",
       "      <td>yes</td>\n",
       "    </tr>\n",
       "  </tbody>\n",
       "</table>\n",
       "</div>"
      ],
      "text/plain": [
       "         id grp  active    rev converted\n",
       "1      1627   A     1.0  990.0       yes\n",
       "39     3185   B     1.0  690.0       yes\n",
       "121   25973   B     1.0  690.0       yes\n",
       "125   26280   B     1.0  690.0       yes\n",
       "220  100300   B     1.0  990.0       yes"
      ]
     },
     "execution_count": 42,
     "metadata": {},
     "output_type": "execute_result"
    }
   ],
   "source": [
    "df_act_pay = df_act.query('rev>0').copy()\n",
    "df_act_pay.head()"
   ]
  },
  {
   "cell_type": "code",
   "execution_count": 43,
   "id": "4df615c3",
   "metadata": {},
   "outputs": [
    {
     "data": {
      "text/plain": [
       "B    80.19\n",
       "A    19.81\n",
       "Name: grp, dtype: float64"
      ]
     },
     "execution_count": 43,
     "metadata": {},
     "output_type": "execute_result"
    }
   ],
   "source": [
    "# посморим, сохраняется ли распределение групп\n",
    "df_act_pay.grp.value_counts(normalize=True).mul(100).round(2)"
   ]
  },
  {
   "cell_type": "markdown",
   "id": "3d27672f",
   "metadata": {},
   "source": [
    "Для выбора статистического критерия оценки метрики необходимо изучить распределения сумм платежей внутри групп. Сперва визуализируем это с помощью графиков, затем проверим с помощью критерия Шапиро-Уилка, являются ли распределения нормальными."
   ]
  },
  {
   "cell_type": "code",
   "execution_count": 44,
   "id": "7255e378",
   "metadata": {
    "scrolled": false
   },
   "outputs": [
    {
     "data": {
      "image/png": "[encoded data removed]",
      "text/plain": [
       "<Figure size 720x360 with 2 Axes>"
      ]
     },
     "metadata": {
      "needs_background": "light"
     },
     "output_type": "display_data"
    }
   ],
   "source": [
    "ax = sns.displot(data=df_act_pay, x=\"rev\", col=\"grp\", kde=True, palette='Paired')\n",
    "ax.set_axis_labels(\"Revenue\")\n",
    "ax.set_titles(\"Revenue distribution in group {col_name}\");"
   ]
  },
  {
   "cell_type": "code",
   "execution_count": 45,
   "id": "00b8d4db",
   "metadata": {},
   "outputs": [
    {
     "data": {
      "image/png": "[encoded data removed]",
      "text/plain": [
       "<Figure size 864x288 with 1 Axes>"
      ]
     },
     "metadata": {
      "needs_background": "light"
     },
     "output_type": "display_data"
    }
   ],
   "source": [
    "# посмотрим на наличие выбросов\n",
    "plt.figure(figsize=(12,4))\n",
    "ax = sns.boxplot(data=df_act_pay, hue='grp', x='rev', y='grp', orient=\"h\", palette='tab20')\n",
    "ax.set_xlabel('Revenue')\n",
    "ax.set_ylabel('Group')\n",
    "plt.legend(title=\"Group\")\n",
    "plt.title('Revenue distribution');"
   ]
  },
  {
   "cell_type": "code",
   "execution_count": 46,
   "id": "993283f0",
   "metadata": {},
   "outputs": [
    {
     "data": {
      "text/plain": [
       "ShapiroResult(statistic=0.7196124196052551, pvalue=5.321687643507211e-13)"
      ]
     },
     "execution_count": 46,
     "metadata": {},
     "output_type": "execute_result"
    }
   ],
   "source": [
    "shapiro(df_act_pay.query('grp==\"A\"').rev)"
   ]
  },
  {
   "cell_type": "code",
   "execution_count": 47,
   "id": "e79158a0",
   "metadata": {},
   "outputs": [
    {
     "data": {
      "text/plain": [
       "ShapiroResult(statistic=0.867313027381897, pvalue=9.542798088039443e-19)"
      ]
     },
     "execution_count": 47,
     "metadata": {},
     "output_type": "execute_result"
    }
   ],
   "source": [
    "shapiro(df_act_pay.query('grp==\"B\"').rev)"
   ]
  },
  {
   "cell_type": "markdown",
   "id": "66c6f88c",
   "metadata": {},
   "source": [
    "На графиках отчетливо видим, что данные далеки от нормального распределения.  \n",
    "Проверка критерием Шапиро-Уилка это подтверждает. Его нулевая гипотеза состоит в том, что выборка распределена нормально. Т.к. p-value < 0.05, то нулевую гипотезу мы отклоняем.  "
   ]
  },
  {
   "cell_type": "markdown",
   "id": "3a37140f",
   "metadata": {},
   "source": [
    "С помощью критерия Манна-Уитни, который не чувствителен к ненормальности распределения и выбросам, проверим гипотезу о том, что тестовая и контрольная выборки принадлежат одной генеральной совокупности, то есть распределения трат покупателей в выборках одинаковы."
   ]
  },
  {
   "cell_type": "code",
   "execution_count": 48,
   "id": "1f4f2366",
   "metadata": {},
   "outputs": [
    {
     "data": {
      "text/plain": [
       "MannwhitneyuResult(statistic=17850.0, pvalue=0.00010509845166809122)"
      ]
     },
     "execution_count": 48,
     "metadata": {},
     "output_type": "execute_result"
    }
   ],
   "source": [
    "mannwhitneyu(df_act_pay.query('grp==\"A\"').rev, df_act_pay.query('grp==\"B\"').rev)"
   ]
  },
  {
   "cell_type": "markdown",
   "id": "9cbdf79c",
   "metadata": {},
   "source": [
    "Получившееся значение p-value меньше 0.05, а это значит, что нулевую гипотезу мы отклоняем. Различия в выборках есть. \n",
    "Теперь применим Bootstrap, используя при этом в качестве меры центральной тенденции среднее (ARPPU), что наглядно продемонстрирует нам статистическую значимость различия интересующей нас метрики ARPPU на выборках."
   ]
  },
  {
   "cell_type": "code",
   "execution_count": 49,
   "id": "d6ed3c0f",
   "metadata": {},
   "outputs": [],
   "source": [
    "def get_bootstrap(\n",
    "    data_column_1, # числовые значения первой выборки\n",
    "    data_column_2, # числовые значения второй выборки\n",
    "    boot_it = 1000, # количество бутстрэп-подвыборок\n",
    "    statistic = np.mean, # интересующая нас статистика\n",
    "    bootstrap_conf_level = 0.95 # уровень значимости\n",
    "):\n",
    "    boot_len = max([len(data_column_1), len(data_column_2)])\n",
    "    boot_data = []\n",
    "    for i in tqdm(range(boot_it)): # извлекаем подвыборки\n",
    "        samples_1 = data_column_1.sample(\n",
    "            boot_len, \n",
    "            replace = True # параметр возвращения\n",
    "        ).values\n",
    "        \n",
    "        samples_2 = data_column_2.sample(\n",
    "            boot_len, # чтобы сохранить дисперсию, берем такой же размер выборки\n",
    "            replace = True\n",
    "        ).values\n",
    "        \n",
    "        boot_data.append(statistic(samples_1-samples_2)) \n",
    "    pd_boot_data = pd.DataFrame(boot_data)\n",
    "        \n",
    "    left_quant = (1 - bootstrap_conf_level)/2\n",
    "    right_quant = 1 - (1 - bootstrap_conf_level) / 2\n",
    "    quants = pd_boot_data.quantile([left_quant, right_quant])\n",
    "        \n",
    "    p_1 = norm.cdf(\n",
    "        x = 0, \n",
    "        loc = np.mean(boot_data), \n",
    "        scale = np.std(boot_data)\n",
    "    )\n",
    "    p_2 = norm.cdf(\n",
    "        x = 0, \n",
    "        loc = -np.mean(boot_data), \n",
    "        scale = np.std(boot_data)\n",
    "    )\n",
    "    p_value = min(p_1, p_2) * 2\n",
    "        \n",
    "    # Визуализация\n",
    "    plt.hist(pd_boot_data[0], bins = 50)\n",
    "    plt.style.use('ggplot')\n",
    "    plt.vlines(quants,ymin=0,ymax=50,linestyle='--')\n",
    "    plt.xlabel('boot_data')\n",
    "    plt.ylabel('frequency')\n",
    "    plt.title(\"Histogram of boot_data\")\n",
    "    plt.show()\n",
    "       \n",
    "    return {\"boot_data\": boot_data, \n",
    "            \"quants\": quants, \n",
    "            \"p_value\": p_value}"
   ]
  },
  {
   "cell_type": "code",
   "execution_count": 50,
   "id": "8e79fe36",
   "metadata": {},
   "outputs": [
    {
     "data": {
      "application/vnd.jupyter.widget-view+json": {
       "model_id": "2e84c0cba01c4d2ab00f1ffc945fb11a",
       "version_major": 2,
       "version_minor": 0
      },
      "text/plain": [
       "  0%|          | 0/1000 [00:00<?, ?it/s]"
      ]
     },
     "metadata": {},
     "output_type": "display_data"
    },
    {
     "data": {
      "image/png": "[encoded data removed]",
      "text/plain": [
       "<Figure size 432x288 with 1 Axes>"
      ]
     },
     "metadata": {
      "needs_background": "light"
     },
     "output_type": "display_data"
    }
   ],
   "source": [
    "booted_data = get_bootstrap(df_act_pay.query('grp==\"A\"').rev, \n",
    "                            df_act_pay.query('grp==\"B\"').rev)"
   ]
  },
  {
   "cell_type": "code",
   "execution_count": 51,
   "id": "6bdedd14",
   "metadata": {},
   "outputs": [
    {
     "data": {
      "text/plain": [
       "2.9103216775863366e-06"
      ]
     },
     "execution_count": 51,
     "metadata": {},
     "output_type": "execute_result"
    }
   ],
   "source": [
    "booted_data[\"p_value\"]"
   ]
  },
  {
   "cell_type": "code",
   "execution_count": 52,
   "id": "3454d431",
   "metadata": {
    "scrolled": true
   },
   "outputs": [
    {
     "data": {
      "text/html": [
       "<div>\n",
       "<style scoped>\n",
       "    .dataframe tbody tr th:only-of-type {\n",
       "        vertical-align: middle;\n",
       "    }\n",
       "\n",
       "    .dataframe tbody tr th {\n",
       "        vertical-align: top;\n",
       "    }\n",
       "\n",
       "    .dataframe thead th {\n",
       "        text-align: right;\n",
       "    }\n",
       "</style>\n",
       "<table border=\"1\" class=\"dataframe\">\n",
       "  <thead>\n",
       "    <tr style=\"text-align: right;\">\n",
       "      <th></th>\n",
       "      <th>0</th>\n",
       "    </tr>\n",
       "  </thead>\n",
       "  <tbody>\n",
       "    <tr>\n",
       "      <th>0.025</th>\n",
       "      <td>-346.056705</td>\n",
       "    </tr>\n",
       "    <tr>\n",
       "      <th>0.975</th>\n",
       "      <td>-136.435978</td>\n",
       "    </tr>\n",
       "  </tbody>\n",
       "</table>\n",
       "</div>"
      ],
      "text/plain": [
       "                0\n",
       "0.025 -346.056705\n",
       "0.975 -136.435978"
      ]
     },
     "execution_count": 52,
     "metadata": {},
     "output_type": "execute_result"
    }
   ],
   "source": [
    "# пределы доверительного интервала\n",
    "booted_data[\"quants\"]"
   ]
  },
  {
   "cell_type": "code",
   "execution_count": 53,
   "id": "44ee672d",
   "metadata": {},
   "outputs": [
    {
     "data": {
      "text/plain": [
       "860.7102803738318"
      ]
     },
     "execution_count": 53,
     "metadata": {},
     "output_type": "execute_result"
    }
   ],
   "source": [
    "# посчитаем ARPPU контрольной группы \n",
    "df_act_pay.query('grp==\"A\"').rev.mean()"
   ]
  },
  {
   "cell_type": "code",
   "execution_count": 54,
   "id": "940f41bb",
   "metadata": {
    "scrolled": true
   },
   "outputs": [
    {
     "data": {
      "text/plain": [
       "1106.997698845266"
      ]
     },
     "execution_count": 54,
     "metadata": {},
     "output_type": "execute_result"
    }
   ],
   "source": [
    "# посчитаем ARPPU тестовой группы\n",
    "df_act_pay.query('grp==\"B\"').rev.mean()"
   ]
  },
  {
   "cell_type": "markdown",
   "id": "5a039b82",
   "metadata": {},
   "source": [
    "Доверительный интервал в bootstrap-тесте не содержит ноль, а p-value<0.05. Таким образом, ARPPU тестовой выборки статистически значимо отличается от ARPPU контрольной выборки. ARPPU группы с новой механикой оплаты услуг на сайте на 246 больше, чем у группы с базовой механикой оплаты услуг."
   ]
  },
  {
   "cell_type": "markdown",
   "id": "669435ea",
   "metadata": {},
   "source": [
    "Таким образом, сравнив с помощью статистических тестов метрики конверсии активных пользователей в покупку и ARPPU, мы приходим в выводу об успешном тестировании новой механики оплаты на платформе. С учетом имеющихся данных, можно сделать вывод что нововведение принесло положительные изменения в течение теста и стоит внедрить его на постоянной основе."
   ]
  },
  {
   "cell_type": "markdown",
   "id": "e4f5f7bc",
   "metadata": {},
   "source": [
    "## Задание 2. SQL\n",
    "### 2.1 Очень усердные ученики.\n",
    "\n",
    "### 2.1.1 Условие\n",
    "\n",
    "Образовательные курсы состоят из различных уроков, каждый из которых состоит из нескольких маленьких заданий. Каждое такое маленькое задание называется \"горошиной\".\n",
    "\n",
    "Назовём **очень усердным** учеником того пользователя, который хотя бы раз за текущий месяц правильно решил 20 горошин за час.\n",
    "\n",
    "2.1.2 Задача\n",
    "\n",
    "Дана таблица peas:\n",
    "\n",
    "| Название атрибута | Тип атрибута | Смысловое значение |\n",
    "| :- | -: | -: |\n",
    "| st_id | int | ID ученика |\n",
    "| timest | timestamp | Время решения карточки |\n",
    "| correct | bool | Правильно ли решена горошина? |\n",
    "| subject | text | Дисциплина, в которой находится горошина |\n",
    "\n",
    "\n",
    "Необходимо написать оптимальный запрос, который даст информацию о количестве **очень усердных** студентов за март 2020 года.\n",
    "\n",
    "NB! Под **усердным** студентом мы понимаем студента, который правильно решил 20 задач за текущий месяц."
   ]
  },
  {
   "cell_type": "code",
   "execution_count": null,
   "id": "2116e393",
   "metadata": {},
   "outputs": [],
   "source": [
    "# Использован синтаксис PostgreSQL. \n",
    "# Для начала фильтруем данные по нужной дате и правильному решению \"горошины\".\n",
    "# Далее для нахождения очень усердных учеников используется оконная функция, \n",
    "# которая \"делит\" данные по студентам и сортирует их по времени решения. \n",
    "# Из отметки времени со смещением в конец \"рамки\" в 20 горошин \n",
    "# (т.е. смещение на 19 строк) вычитается время текущей строки.\n",
    "# Разница берется в минутах. Далее отсортировываем строки, где эта разница не более 60 минут. \n",
    "# Считаем количество очень усердных студентов.\n",
    "\n",
    "\"\"\"\n",
    "select count(*)\n",
    "from\n",
    "    (select st_id\n",
    "    from\n",
    "        (select st_id, \n",
    "                timest, \n",
    "                extract(epoch from (LEAD(timest, 19) OVER (PARTITION BY st_id ORDER BY timest) - timest))/60 as df\n",
    "        from peas\n",
    "        where date_trunc('month', timest) = '2020-03-01 00:00:00' and correct=1) as w\n",
    "    where df<=60\n",
    "    group by st_id) as st\n",
    "\"\"\""
   ]
  },
  {
   "cell_type": "code",
   "execution_count": 55,
   "id": "641a8623",
   "metadata": {
    "scrolled": true
   },
   "outputs": [
    {
     "data": {
      "text/html": [
       "<div>\n",
       "<style scoped>\n",
       "    .dataframe tbody tr th:only-of-type {\n",
       "        vertical-align: middle;\n",
       "    }\n",
       "\n",
       "    .dataframe tbody tr th {\n",
       "        vertical-align: top;\n",
       "    }\n",
       "\n",
       "    .dataframe thead th {\n",
       "        text-align: right;\n",
       "    }\n",
       "</style>\n",
       "<table border=\"1\" class=\"dataframe\">\n",
       "  <thead>\n",
       "    <tr style=\"text-align: right;\">\n",
       "      <th></th>\n",
       "      <th>count</th>\n",
       "    </tr>\n",
       "  </thead>\n",
       "  <tbody>\n",
       "    <tr>\n",
       "      <th>0</th>\n",
       "      <td>0</td>\n",
       "    </tr>\n",
       "  </tbody>\n",
       "</table>\n",
       "</div>"
      ],
      "text/plain": [
       "   count\n",
       "0      0"
      ]
     },
     "execution_count": 55,
     "metadata": {},
     "output_type": "execute_result"
    }
   ],
   "source": [
    "# т.к. у меня нет возможности подключиться через jupyter notebook к postgreSQL на учебной платформе redash, \n",
    "# то я выгрузила итоговую таблицу запроса, считаем ее\n",
    "query_1 = pd.read_csv('New_Query_1.csv')\n",
    "query_1"
   ]
  },
  {
   "cell_type": "markdown",
   "id": "dbd2c873",
   "metadata": {},
   "source": [
    "По нашим данным в марте 2020 года не было ни одного очень успешного студента."
   ]
  },
  {
   "cell_type": "markdown",
   "id": "a479c2b9",
   "metadata": {},
   "source": [
    "## 2.2 Оптимизация воронки\n",
    "\n",
    "### 2.2.1 Условие\n",
    "\n",
    "Образовательная платформа предлагает пройти студентам курсы по модели trial: студент может решить бесплатно лишь 30 горошин в день. Для неограниченного количества заданий в определенной дисциплине студенту необходимо приобрести полный доступ. Команда провела эксперимент, где был протестирован новый экран оплаты.\n",
    "\n",
    "### 2.2.2 Задача\n",
    "\n",
    "Дана таблицы: peas (см. выше), studs:\n",
    "\n",
    "| Название атрибута |\tТип атрибута | Смысловое значение |\n",
    "| :- | -: | -: |\n",
    "| st_id\t| int |\tID ученика |\n",
    "| test_grp\t| text |\tМетка ученика в данном эксперименте |\n",
    "\n",
    "и checks:\n",
    "\n",
    "| Название атрибута |\tТип атрибута |\tСмысловое значение |\n",
    "| :- | -: | -: |\n",
    "| st_id |\tint |\tID ученика |\n",
    "| sale_time |\ttimestamp\t| Время покупки |\n",
    "| money |\tint |\tЦена, по которой приобрели данный курс |\n",
    "| subject\t| text | Дисциплина, на которую приобрели полный доступ |\n",
    "\n",
    "\n",
    "Необходимо в одном запросе выгрузить следующую информацию о группах пользователей:\n",
    "\n",
    "- ARPU \n",
    "- ARPAU \n",
    "- CR в покупку \n",
    "- СR активного пользователя в покупку \n",
    "- CR пользователя из активности по математике (subject = ’math’) в покупку курса по математике"
   ]
  },
  {
   "cell_type": "code",
   "execution_count": null,
   "id": "50252a6f",
   "metadata": {},
   "outputs": [],
   "source": [
    "# Кого принять за активных пользователей для расчетов ARPAU и CR активного пользователя в покупку? \n",
    "# Тк. у нас есть информация по решению пользователями горошин и нет информации по просто посещению платформы, то\n",
    "# объединим данные тех, кто что-то решал и тех, кто оплачивал (т.к. они как минимум заходили на платформу), \n",
    "# и примем это количество за активных пользователей. И конечно берем пересечение с таблицей, \n",
    "# содержащей отметки о принадлежности к группе, тк нас интересуют только те пользователи, которые включены в эксперимент."
   ]
  },
  {
   "cell_type": "code",
   "execution_count": null,
   "id": "b4e44356",
   "metadata": {},
   "outputs": [],
   "source": [
    "# При расчете CR пользователя из активности по математике в покупку курса по математике важно принять во внимание \n",
    "# не только совпадение полей subject, но и временные отметки. То есть timest из таблицы peas должна быть раньше, чем\n",
    "# sale_time из таблицы checks (сначала пользователь решал, а потом купил).\n",
    "# Также задача состоит в том, чтобы найти конверсию из активности по математике в покупку курса, поэтому не считаю нужным \n",
    "# ставить ограничение в данных на 30 горошин (то есть в расчет принимать только тех сутдентов, которые были \"вынуждены\" \n",
    "# купить курс после закончившегося триала), не будем отсекать тех, кто попробовал, решив меньше 30 горошин, \n",
    "# и уже убедился в своем желании оплатить курс."
   ]
  },
  {
   "cell_type": "code",
   "execution_count": null,
   "id": "4e229cb4",
   "metadata": {},
   "outputs": [],
   "source": [
    "\"\"\"\"\"\n",
    "with \n",
    "get_ARPU_CR(test_grp, ARPU, CR)\n",
    "as (select \n",
    "        test_grp, \n",
    "        sum(money)/count(distinct s.st_id) as ARPU,\n",
    "        (count(distinct c.st_id)*100)/count(distinct s.st_id) as CR\n",
    "    from studs s left join checks c using(st_id) \n",
    "    group by test_grp),\n",
    "\n",
    "get_ARPAU_CR_act(test_grp, ARPAU, CR_active)\n",
    "as (select \n",
    "        test_grp, \n",
    "        rev/count(distinct s.st_id),\n",
    "        (count(distinct c.st_id)*100)/count(distinct s.st_id)\n",
    "    from peas p full join checks c using (st_id) \n",
    "        right join studs s using(st_id)\n",
    "        join (select \n",
    "                  sum(money) as rev, \n",
    "                  test_grp \n",
    "              from studs s left join checks c using(st_id) \n",
    "              group by test_grp) as t using(test_grp)\n",
    "    group by test_grp, t.rev),\n",
    "    \n",
    "get_CR_math(test_grp, CR_math)\n",
    "as (select \n",
    "        test_grp, \n",
    "        count(c.st_id)*100/count(d.st_id)\n",
    "    from\n",
    "        (select distinct st_id\n",
    "        from (select \n",
    "                  st_id, \n",
    "                  sale_time\n",
    "              from checks c\n",
    "              where c.subject = 'math') as b\n",
    "            join (select \n",
    "                      st_id, \n",
    "                      timest\n",
    "                 from peas p\n",
    "                 where p.subject = 'math') as a using(st_id)\n",
    "        where timest < sale_time) as c\n",
    "        full join studs s using(st_id)\n",
    "        full join (select distinct st_id\n",
    "                    from peas p\n",
    "                    where subject = 'math') as d using(st_id)\n",
    "    group by test_grp)\n",
    "\n",
    "select \n",
    "    test_grp, \n",
    "    ARPU, \n",
    "    ARPAU, \n",
    "    CR, \n",
    "    CR_active, \n",
    "    CR_math\n",
    "from get_ARPU_CR join get_ARPAU_CR_act using (test_grp) \n",
    "    join get_CR_math using(test_grp)\n",
    "    \n",
    "\"\"\"\"\""
   ]
  },
  {
   "cell_type": "code",
   "execution_count": 62,
   "id": "4e45c22b",
   "metadata": {},
   "outputs": [
    {
     "data": {
      "text/html": [
       "<div>\n",
       "<style scoped>\n",
       "    .dataframe tbody tr th:only-of-type {\n",
       "        vertical-align: middle;\n",
       "    }\n",
       "\n",
       "    .dataframe tbody tr th {\n",
       "        vertical-align: top;\n",
       "    }\n",
       "\n",
       "    .dataframe thead th {\n",
       "        text-align: right;\n",
       "    }\n",
       "</style>\n",
       "<table border=\"1\" class=\"dataframe\">\n",
       "  <thead>\n",
       "    <tr style=\"text-align: right;\">\n",
       "      <th></th>\n",
       "      <th>test_grp</th>\n",
       "      <th>arpu</th>\n",
       "      <th>arpau</th>\n",
       "      <th>cr</th>\n",
       "      <th>cr_active</th>\n",
       "      <th>cr_math</th>\n",
       "    </tr>\n",
       "  </thead>\n",
       "  <tbody>\n",
       "    <tr>\n",
       "      <th>0</th>\n",
       "      <td>control</td>\n",
       "      <td>98</td>\n",
       "      <td>98</td>\n",
       "      <td>33</td>\n",
       "      <td>33</td>\n",
       "      <td>16</td>\n",
       "    </tr>\n",
       "    <tr>\n",
       "      <th>1</th>\n",
       "      <td>test</td>\n",
       "      <td>208</td>\n",
       "      <td>208</td>\n",
       "      <td>75</td>\n",
       "      <td>75</td>\n",
       "      <td>50</td>\n",
       "    </tr>\n",
       "  </tbody>\n",
       "</table>\n",
       "</div>"
      ],
      "text/plain": [
       "  test_grp  arpu  arpau  cr  cr_active  cr_math\n",
       "0  control    98     98  33         33       16\n",
       "1     test   208    208  75         75       50"
      ]
     },
     "execution_count": 62,
     "metadata": {},
     "output_type": "execute_result"
    }
   ],
   "source": [
    "# т.к. у меня нет возможности подключиться через jupyter notebook к postgreSQL на учебной платформе redash, \n",
    "# то я выгрузила итоговую таблицу запроса\n",
    "query_2 = pd.read_csv('New_Query_2.csv')\n",
    "query_2"
   ]
  },
  {
   "cell_type": "markdown",
   "id": "81cbd7ab",
   "metadata": {},
   "source": [
    "В наших данных все участники теста являлись активными пользователями в течение экспериментального периода. Поэтому показатели ARPU и CR совпадают с показателями ARPAU и CR_active. В то же время видим, что в этих данных все показатели тестовой группы более чем в два раза выше, чем показатели контрольной группы, это хороший результат."
   ]
  },
  {
   "cell_type": "markdown",
   "id": "0f6dcba3",
   "metadata": {},
   "source": [
    "# Задание 3. Python\n",
    "## 3.1 Задача\n",
    "\n",
    "Реализуйте функцию, которая будет автоматически подгружать информацию из дополнительного файла groups_add.csv (заголовки могут отличаться) и на основании дополнительных параметров пересчитывать метрики.\n",
    "\n",
    "Реализуйте функцию, которая будет строить графики по получаемым метрикам."
   ]
  },
  {
   "cell_type": "code",
   "execution_count": 63,
   "id": "e91c91ad",
   "metadata": {},
   "outputs": [],
   "source": [
    "def add_info_get_metrics(path, basic_df, df_active_st, df_checks):\n",
    "    \n",
    "    additional_df = pd.read_csv(path)\n",
    "    numerics = ['int16', 'int32', 'int64', 'float16', 'float32', 'float64']\n",
    "\n",
    "    # найдем числовой столбец в добавочном датафрейме и присвоим ему имя 'id', как в базовой таблице\n",
    "    # оставшемуся столбцу присвоим имя 'grp'\n",
    "    if additional_df.iloc[:, [0]].dtypes.values in numerics:\n",
    "        additional_df.columns.values[0] = 'id'\n",
    "        additional_df.columns.values[1] = 'grp'\n",
    "    else:\n",
    "        additional_df.columns.values[0] = 'grp'\n",
    "        additional_df.columns.values[1] = 'id'\n",
    "    \n",
    "    # теперь у нас столбцы называются одинаково и конкатенация автоматически соединит соответствующие данные\n",
    "    full_data = pd.concat([basic_df, additional_df], ignore_index=True)\n",
    "    \n",
    "    # удалим дубликаты, если они появились\n",
    "    full_data.drop_duplicates(inplace=True)\n",
    "    \n",
    "    # проверим, нет ли таких id, которые попали в обе группы эксперимента\n",
    "    if full_data.id.nunique() != full_data.shape[0]:\n",
    "         raise ValueError('Ошибка. Есть id, попавшее в обе группы эксперимента.')\n",
    "    \n",
    "    # соберем все таблицы в одну\n",
    "    full_data = full_data.merge(df_active_st, how='left', right_on='student_id', left_on='id')\\\n",
    "                        .drop(columns='student_id')\n",
    "    full_data = full_data.merge(df_checks, how='left', left_on='id', right_on='student_id')\\\n",
    "                        .drop(columns='student_id')\n",
    "\n",
    "    # исправим показатель активности в таблице у тех пользователей, которые совершили покупку в дни эксперимента\n",
    "    full_data.loc[full_data.rev.notna(), 'active'] = 1\n",
    "    \n",
    "    # оставим для анализа только \"активных\" пользователей (и тех, кого мы добавили к \"активным\" на прошлом шаге)\n",
    "    df_act = full_data.query('active==1').copy()\n",
    "    \n",
    "    # заполним отсутствующие суммы покупок нулями\n",
    "    df_act.rev.fillna(0, inplace=True)\n",
    "    \n",
    "    # добавим столбец, который будет содержать отметку, есть ли конверсия в покупку у пользователя\n",
    "    df_act['converted'] = df_act.rev.apply(lambda x: 'no' if x == 0 else 'yes')\n",
    "    \n",
    "    # посчитаем конверсию активных пользователей в покупку\n",
    "    CR_A = df_act.query('grp==\"A\"').converted.value_counts(normalize=True).mul(100).round(2).values[1]\n",
    "    CR_B = df_act.query('grp==\"B\"').converted.value_counts(normalize=True).mul(100).round(2).values[1]\n",
    "\n",
    "    # посчитаем средний доход с платящего пользователя\n",
    "    df_act_pay = df_act.query('rev>0').copy() # выделили платящих пользователей\n",
    "    ARPPU_A = round(df_act_pay.query('grp==\"A\"').rev.mean(), 2)\n",
    "    ARPPU_B = round(df_act_pay.query('grp==\"B\"').rev.mean(), 2)\n",
    "    \n",
    "    return pd.DataFrame({'group': ['A', 'B'],\n",
    "                         'CR': [CR_A, CR_B],\n",
    "                         'ARPPU': [ARPPU_A, ARPPU_B]})"
   ]
  },
  {
   "cell_type": "code",
   "execution_count": 64,
   "id": "70508108",
   "metadata": {},
   "outputs": [],
   "source": [
    "def get_plot(data):\n",
    "    fig, axes = plt.subplots(1, 2, figsize=(15, 5))\n",
    "    fig.suptitle(f'Metrics {data.columns[1]} and {data.columns[2]} in control (A) and test (B) groups')\n",
    "\n",
    "    sns.barplot(ax=axes[0], data=data, x='group', y=data.columns[1], palette='Paired')\n",
    "    axes[0].set_title(data.columns[1])\n",
    "\n",
    "    sns.barplot(ax=axes[1], data=data, x='group', y=data.columns[2], palette='Paired')\n",
    "    axes[1].set_title(data.columns[2]);"
   ]
  },
  {
   "cell_type": "code",
   "execution_count": 65,
   "id": "2e384b35",
   "metadata": {},
   "outputs": [],
   "source": [
    "# путь к таблице, которую необходимо подгрузить\n",
    "path = 'Проект_2_group_add.csv'"
   ]
  },
  {
   "cell_type": "code",
   "execution_count": 66,
   "id": "d089a285",
   "metadata": {
    "scrolled": true
   },
   "outputs": [
    {
     "data": {
      "text/html": [
       "<div>\n",
       "<style scoped>\n",
       "    .dataframe tbody tr th:only-of-type {\n",
       "        vertical-align: middle;\n",
       "    }\n",
       "\n",
       "    .dataframe tbody tr th {\n",
       "        vertical-align: top;\n",
       "    }\n",
       "\n",
       "    .dataframe thead th {\n",
       "        text-align: right;\n",
       "    }\n",
       "</style>\n",
       "<table border=\"1\" class=\"dataframe\">\n",
       "  <thead>\n",
       "    <tr style=\"text-align: right;\">\n",
       "      <th></th>\n",
       "      <th>group</th>\n",
       "      <th>CR</th>\n",
       "      <th>ARPPU</th>\n",
       "    </tr>\n",
       "  </thead>\n",
       "  <tbody>\n",
       "    <tr>\n",
       "      <th>0</th>\n",
       "      <td>A</td>\n",
       "      <td>6.83</td>\n",
       "      <td>860.71</td>\n",
       "    </tr>\n",
       "    <tr>\n",
       "      <th>1</th>\n",
       "      <td>B</td>\n",
       "      <td>6.27</td>\n",
       "      <td>1108.82</td>\n",
       "    </tr>\n",
       "  </tbody>\n",
       "</table>\n",
       "</div>"
      ],
      "text/plain": [
       "  group    CR    ARPPU\n",
       "0     A  6.83   860.71\n",
       "1     B  6.27  1108.82"
      ]
     },
     "execution_count": 66,
     "metadata": {},
     "output_type": "execute_result"
    }
   ],
   "source": [
    "metric_data = add_info_get_metrics(path, df_groups, df_active_st, df_checks)\n",
    "metric_data"
   ]
  },
  {
   "cell_type": "code",
   "execution_count": 67,
   "id": "42681c5f",
   "metadata": {},
   "outputs": [
    {
     "data": {
      "image/png": "[encoded data removed]",
      "text/plain": [
       "<Figure size 1080x360 with 2 Axes>"
      ]
     },
     "metadata": {},
     "output_type": "display_data"
    }
   ],
   "source": [
    "get_plot(metric_data)"
   ]
  },
  {
   "cell_type": "markdown",
   "id": "e3a2cde7",
   "metadata": {},
   "source": [
    "После добавления данных метрики изменились незначительно. Больше интересна природа происходящего - почему спустя два дня к нам поступают новые данные по разметке пользователей и возникает необходимость в пересчете метрик? Вероятно, природа этого - попытка исправить ошибку разметки. Возможно, не только с логированием активных пользователей платформы случилось упущение данных. При сильных изменениях метрик, стоило бы проверить, не является ли добавление новых данных попыткой управлять результатом эксперимента."
   ]
  }
 ],
 "metadata": {
  "kernelspec": {
   "display_name": "Python 3",
   "language": "python",
   "name": "python3"
  },
  "language_info": {
   "codemirror_mode": {
    "name": "ipython",
    "version": 3
   },
   "file_extension": ".py",
   "mimetype": "text/x-python",
   "name": "python",
   "nbconvert_exporter": "python",
   "pygments_lexer": "ipython3",
   "version": "3.7.11"
  }
 },
 "nbformat": 4,
 "nbformat_minor": 5
}
