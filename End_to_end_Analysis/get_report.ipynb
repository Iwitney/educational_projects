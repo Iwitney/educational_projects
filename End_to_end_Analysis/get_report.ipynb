{
 "cells": [
  {
   "cell_type": "code",
   "execution_count": 1,
   "id": "62cbf616",
   "metadata": {},
   "outputs": [],
   "source": [
    "import for_report as fr"
   ]
  },
  {
   "cell_type": "code",
   "execution_count": 2,
   "id": "976a939c",
   "metadata": {
    "scrolled": false
   },
   "outputs": [
    {
     "data": {
      "text/html": [
       "<div>\n",
       "<style scoped>\n",
       "    .dataframe tbody tr th:only-of-type {\n",
       "        vertical-align: middle;\n",
       "    }\n",
       "\n",
       "    .dataframe tbody tr th {\n",
       "        vertical-align: top;\n",
       "    }\n",
       "\n",
       "    .dataframe thead th {\n",
       "        text-align: right;\n",
       "    }\n",
       "</style>\n",
       "<table border=\"1\" class=\"dataframe\">\n",
       "  <thead>\n",
       "    <tr style=\"text-align: right;\">\n",
       "      <th></th>\n",
       "      <th>date</th>\n",
       "      <th>utm_source</th>\n",
       "      <th>utm_medium</th>\n",
       "      <th>utm_campaign</th>\n",
       "      <th>clicks_number</th>\n",
       "      <th>adv_expenses</th>\n",
       "      <th>leads_number</th>\n",
       "      <th>sales_number</th>\n",
       "      <th>revenue</th>\n",
       "      <th>cpl</th>\n",
       "      <th>roas</th>\n",
       "    </tr>\n",
       "  </thead>\n",
       "  <tbody>\n",
       "    <tr>\n",
       "      <th>0</th>\n",
       "      <td>2022-01-03</td>\n",
       "      <td>yandex</td>\n",
       "      <td>cpc</td>\n",
       "      <td>48306435</td>\n",
       "      <td>1</td>\n",
       "      <td>11.952</td>\n",
       "      <td>0</td>\n",
       "      <td>0</td>\n",
       "      <td>0</td>\n",
       "      <td>0.00</td>\n",
       "      <td>0.00</td>\n",
       "    </tr>\n",
       "    <tr>\n",
       "      <th>1</th>\n",
       "      <td>2022-01-03</td>\n",
       "      <td>yandex</td>\n",
       "      <td>cpc</td>\n",
       "      <td>48306450</td>\n",
       "      <td>10</td>\n",
       "      <td>190.128</td>\n",
       "      <td>1</td>\n",
       "      <td>0</td>\n",
       "      <td>0</td>\n",
       "      <td>190.13</td>\n",
       "      <td>0.00</td>\n",
       "    </tr>\n",
       "    <tr>\n",
       "      <th>2</th>\n",
       "      <td>2022-01-04</td>\n",
       "      <td>yandex</td>\n",
       "      <td>cpc</td>\n",
       "      <td>48306435</td>\n",
       "      <td>1</td>\n",
       "      <td>11.364</td>\n",
       "      <td>0</td>\n",
       "      <td>0</td>\n",
       "      <td>0</td>\n",
       "      <td>0.00</td>\n",
       "      <td>0.00</td>\n",
       "    </tr>\n",
       "    <tr>\n",
       "      <th>3</th>\n",
       "      <td>2022-01-04</td>\n",
       "      <td>yandex</td>\n",
       "      <td>cpc</td>\n",
       "      <td>48306450</td>\n",
       "      <td>29</td>\n",
       "      <td>617.616</td>\n",
       "      <td>1</td>\n",
       "      <td>2</td>\n",
       "      <td>9990</td>\n",
       "      <td>617.62</td>\n",
       "      <td>16.18</td>\n",
       "    </tr>\n",
       "    <tr>\n",
       "      <th>4</th>\n",
       "      <td>2022-01-05</td>\n",
       "      <td>yandex</td>\n",
       "      <td>cpc</td>\n",
       "      <td>48306450</td>\n",
       "      <td>32</td>\n",
       "      <td>726.192</td>\n",
       "      <td>1</td>\n",
       "      <td>1</td>\n",
       "      <td>290</td>\n",
       "      <td>726.19</td>\n",
       "      <td>0.40</td>\n",
       "    </tr>\n",
       "    <tr>\n",
       "      <th>...</th>\n",
       "      <td>...</td>\n",
       "      <td>...</td>\n",
       "      <td>...</td>\n",
       "      <td>...</td>\n",
       "      <td>...</td>\n",
       "      <td>...</td>\n",
       "      <td>...</td>\n",
       "      <td>...</td>\n",
       "      <td>...</td>\n",
       "      <td>...</td>\n",
       "      <td>...</td>\n",
       "    </tr>\n",
       "    <tr>\n",
       "      <th>1105</th>\n",
       "      <td>2022-09-13</td>\n",
       "      <td>yandex</td>\n",
       "      <td>cpc</td>\n",
       "      <td>48306473</td>\n",
       "      <td>2</td>\n",
       "      <td>23.328</td>\n",
       "      <td>1</td>\n",
       "      <td>1</td>\n",
       "      <td>12495</td>\n",
       "      <td>23.33</td>\n",
       "      <td>535.62</td>\n",
       "    </tr>\n",
       "    <tr>\n",
       "      <th>1106</th>\n",
       "      <td>2022-09-14</td>\n",
       "      <td>yandex</td>\n",
       "      <td>cpc</td>\n",
       "      <td>48306435</td>\n",
       "      <td>14</td>\n",
       "      <td>449.028</td>\n",
       "      <td>2</td>\n",
       "      <td>1</td>\n",
       "      <td>9999</td>\n",
       "      <td>224.51</td>\n",
       "      <td>22.27</td>\n",
       "    </tr>\n",
       "    <tr>\n",
       "      <th>1107</th>\n",
       "      <td>2022-09-14</td>\n",
       "      <td>yandex</td>\n",
       "      <td>cpc</td>\n",
       "      <td>48306450</td>\n",
       "      <td>48</td>\n",
       "      <td>1856.208</td>\n",
       "      <td>4</td>\n",
       "      <td>1</td>\n",
       "      <td>10400</td>\n",
       "      <td>464.05</td>\n",
       "      <td>5.60</td>\n",
       "    </tr>\n",
       "    <tr>\n",
       "      <th>1108</th>\n",
       "      <td>2022-09-14</td>\n",
       "      <td>yandex</td>\n",
       "      <td>cpc</td>\n",
       "      <td>48306473</td>\n",
       "      <td>1</td>\n",
       "      <td>33.444</td>\n",
       "      <td>0</td>\n",
       "      <td>0</td>\n",
       "      <td>0</td>\n",
       "      <td>0.00</td>\n",
       "      <td>0.00</td>\n",
       "    </tr>\n",
       "    <tr>\n",
       "      <th>1109</th>\n",
       "      <td>2022-09-14</td>\n",
       "      <td>yandex</td>\n",
       "      <td>cpc</td>\n",
       "      <td>48306487</td>\n",
       "      <td>10</td>\n",
       "      <td>228.060</td>\n",
       "      <td>0</td>\n",
       "      <td>0</td>\n",
       "      <td>0</td>\n",
       "      <td>0.00</td>\n",
       "      <td>0.00</td>\n",
       "    </tr>\n",
       "  </tbody>\n",
       "</table>\n",
       "<p>1110 rows × 11 columns</p>\n",
       "</div>"
      ],
      "text/plain": [
       "            date utm_source utm_medium utm_campaign  clicks_number  \\\n",
       "0     2022-01-03     yandex        cpc     48306435              1   \n",
       "1     2022-01-03     yandex        cpc     48306450             10   \n",
       "2     2022-01-04     yandex        cpc     48306435              1   \n",
       "3     2022-01-04     yandex        cpc     48306450             29   \n",
       "4     2022-01-05     yandex        cpc     48306450             32   \n",
       "...          ...        ...        ...          ...            ...   \n",
       "1105  2022-09-13     yandex        cpc     48306473              2   \n",
       "1106  2022-09-14     yandex        cpc     48306435             14   \n",
       "1107  2022-09-14     yandex        cpc     48306450             48   \n",
       "1108  2022-09-14     yandex        cpc     48306473              1   \n",
       "1109  2022-09-14     yandex        cpc     48306487             10   \n",
       "\n",
       "      adv_expenses  leads_number  sales_number  revenue     cpl    roas  \n",
       "0           11.952             0             0        0    0.00    0.00  \n",
       "1          190.128             1             0        0  190.13    0.00  \n",
       "2           11.364             0             0        0    0.00    0.00  \n",
       "3          617.616             1             2     9990  617.62   16.18  \n",
       "4          726.192             1             1      290  726.19    0.40  \n",
       "...            ...           ...           ...      ...     ...     ...  \n",
       "1105        23.328             1             1    12495   23.33  535.62  \n",
       "1106       449.028             2             1     9999  224.51   22.27  \n",
       "1107      1856.208             4             1    10400  464.05    5.60  \n",
       "1108        33.444             0             0        0    0.00    0.00  \n",
       "1109       228.060             0             0        0    0.00    0.00  \n",
       "\n",
       "[1110 rows x 11 columns]"
      ]
     },
     "execution_count": 2,
     "metadata": {},
     "output_type": "execute_result"
    }
   ],
   "source": [
    "# выгрузка отчета из базы данных PostgreSQL в DataFrame\n",
    "\n",
    "sql = '''WITH ads_t AS (\n",
    "SELECT \n",
    "    created_at AS Date, \n",
    "    d_utm_source AS UTM_source, \n",
    "    d_utm_medium AS UTM_medium, \n",
    "    d_utm_campaign AS UTM_campaign, \n",
    "    SUM(m_clicks) AS Clicks_number, \n",
    "    SUM(m_cost) AS adv_expenses \n",
    "FROM ads \n",
    "WHERE m_clicks!=0\n",
    "GROUP BY Date, UTM_source, UTM_medium, UTM_campaign),\n",
    "\n",
    "leads_t AS (\n",
    "SELECT \n",
    "    created_at AS Date, \n",
    "    d_utm_source AS UTM_source, \n",
    "    d_utm_medium AS UTM_medium, \n",
    "    d_utm_campaign AS UTM_campaign, \n",
    "    COUNT(lead_id) AS Leads_number \n",
    "FROM ads ad JOIN (\n",
    "        SELECT lead_created_at, \n",
    "            MIN(lead_id) AS lead_id, \n",
    "            d_lead_utm_source, \n",
    "            d_lead_utm_medium, \n",
    "            d_lead_utm_campaign, \n",
    "            d_lead_utm_content, \n",
    "            d_lead_utm_term, \n",
    "            client_id\n",
    "        FROM leads\n",
    "        WHERE client_id IS NOT NULL\n",
    "        GROUP BY lead_created_at, d_lead_utm_source, d_lead_utm_medium, \n",
    "            d_lead_utm_campaign, d_lead_utm_content, d_lead_utm_term, client_id\n",
    "        UNION\n",
    "        SELECT lead_created_at, \n",
    "            lead_id, \n",
    "            d_lead_utm_source, \n",
    "            d_lead_utm_medium, \n",
    "            d_lead_utm_campaign, \n",
    "            d_lead_utm_content, \n",
    "            d_lead_utm_term, \n",
    "            client_id\n",
    "        FROM leads\n",
    "        WHERE client_id IS NULL) l \n",
    "    ON ad.created_at=l.lead_created_at \n",
    "    AND ad.d_utm_source=l.d_lead_utm_source \n",
    "    AND ad.d_utm_medium=l.d_lead_utm_medium \n",
    "    AND ad.d_utm_campaign=l.d_lead_utm_campaign \n",
    "    AND ad.d_utm_content=l.d_lead_utm_content \n",
    "    AND COALESCE(ad.d_utm_term, '0') = COALESCE(l.d_lead_utm_term, '0') \n",
    "GROUP BY Date, UTM_source, UTM_medium, UTM_campaign),\n",
    "\n",
    "purch_data AS ( \n",
    "SELECT \n",
    "    DISTINCT FIRST_VALUE(lead_created_at) OVER w AS Date, \n",
    "    FIRST_VALUE(l.d_lead_utm_source) OVER w AS UTM_source, \n",
    "    FIRST_VALUE(l.d_lead_utm_medium) OVER w AS UTM_medium, \n",
    "    FIRST_VALUE(l.d_lead_utm_campaign) OVER w AS UTM_campaign, \n",
    "    FIRST_VALUE(lead_id) OVER w AS lead_id, \n",
    "    purchase_id, \n",
    "    m_purchase_amount \n",
    "FROM ads ad JOIN leads l \n",
    "    ON ad.created_at=l.lead_created_at \n",
    "    AND ad.d_utm_source=l.d_lead_utm_source \n",
    "    AND ad.d_utm_medium=l.d_lead_utm_medium \n",
    "    AND ad.d_utm_campaign=l.d_lead_utm_campaign \n",
    "    AND ad.d_utm_content=l.d_lead_utm_content \n",
    "    AND COALESCE(ad.d_utm_term, '0') = COALESCE(l.d_lead_utm_term, '0') \n",
    "    JOIN purchases pu \n",
    "    USING(client_id) \n",
    "WHERE pu.m_purchase_amount!=0 AND \n",
    "    pu.purchases_created_at BETWEEN l.lead_created_at AND l.lead_created_at+15 \n",
    "WINDOW w AS (PARTITION BY purchase_id ORDER BY lead_created_at DESC)),\n",
    "\n",
    "purch_t AS (\n",
    "SELECT \n",
    "    Date, \n",
    "    UTM_source, \n",
    "    UTM_medium, \n",
    "    UTM_campaign, \n",
    "    COUNT(purchase_id) AS Sales_number, \n",
    "    SUM(m_purchase_amount) AS Revenue \n",
    "FROM purch_data \n",
    "GROUP BY Date, UTM_source, UTM_medium, UTM_campaign)\n",
    "\n",
    "SELECT \n",
    "    Date, \n",
    "    UTM_source, \n",
    "    UTM_medium, \n",
    "    UTM_campaign,\n",
    "    Clicks_number, \n",
    "    adv_expenses, \n",
    "    COALESCE(Leads_number, 0) AS Leads_number, \n",
    "    COALESCE(Sales_number, 0) AS Sales_number, \n",
    "    COALESCE(Revenue, 0) AS Revenue,\n",
    "    COALESCE(adv_expenses / Leads_number, 0)::NUMERIC(10,2) AS CPL,\n",
    "    COALESCE(Revenue / adv_expenses, 0)::NUMERIC(10,2) AS ROAS\n",
    "FROM ads_t LEFT JOIN leads_t USING(Date, UTM_source, UTM_medium, UTM_campaign)\n",
    "    LEFT JOIN purch_t USING(Date, UTM_source, UTM_medium, UTM_campaign)\n",
    "    ORDER BY Date;'''\n",
    "\n",
    "p = fr.Postgres()\n",
    "df_report = p.get_df(sql)\n",
    "df_report"
   ]
  },
  {
   "cell_type": "code",
   "execution_count": 3,
   "id": "85e126c9",
   "metadata": {
    "scrolled": true
   },
   "outputs": [
    {
     "name": "stdout",
     "output_type": "stream",
     "text": [
      "Success!\n"
     ]
    }
   ],
   "source": [
    "# загрузка отчета в базу данных PostgreSQL\n",
    "\n",
    "table_name = 'new_report'\n",
    "sql_report = f'''CREATE TABLE IF NOT EXISTS {table_name} (\n",
    "    Date date, \n",
    "    utm_source text, \n",
    "    utm_medium text, \n",
    "    utm_campaign text, \n",
    "    clicks_number int, \n",
    "    adv_expenses double precision, \n",
    "    leads_number int, \n",
    "    sales_number int, \n",
    "    revenue int, \n",
    "    CPL numeric(10,2), \n",
    "    ROAS numeric(10,2))'''\n",
    "\n",
    "p = fr.Postgres()\n",
    "p.export_df(sql_report, df_report, table_name)"
   ]
  },
  {
   "cell_type": "code",
   "execution_count": 5,
   "id": "bc9cf5b0",
   "metadata": {},
   "outputs": [
    {
     "name": "stdout",
     "output_type": "stream",
     "text": [
      "Success!\n"
     ]
    }
   ],
   "source": [
    "# загрузка отчета в Google Spreadsheets\n",
    "\n",
    "gs = fr.GoogleSpreadsheet(table_name='New Report')\n",
    "gs.export(df_report)"
   ]
  },
  {
   "cell_type": "markdown",
   "id": "fe100f61",
   "metadata": {},
   "source": [
    "# Комментарии"
   ]
  },
  {
   "cell_type": "code",
   "execution_count": 4,
   "id": "b1da50e9",
   "metadata": {
    "scrolled": true
   },
   "outputs": [
    {
     "data": {
      "text/html": [
       "<div>\n",
       "<style scoped>\n",
       "    .dataframe tbody tr th:only-of-type {\n",
       "        vertical-align: middle;\n",
       "    }\n",
       "\n",
       "    .dataframe tbody tr th {\n",
       "        vertical-align: top;\n",
       "    }\n",
       "\n",
       "    .dataframe thead th {\n",
       "        text-align: right;\n",
       "    }\n",
       "</style>\n",
       "<table border=\"1\" class=\"dataframe\">\n",
       "  <thead>\n",
       "    <tr style=\"text-align: right;\">\n",
       "      <th></th>\n",
       "      <th>created_at</th>\n",
       "      <th>d_ad_account_id</th>\n",
       "      <th>d_utm_source</th>\n",
       "      <th>d_utm_medium</th>\n",
       "      <th>d_utm_campaign</th>\n",
       "      <th>d_utm_content</th>\n",
       "      <th>d_utm_term</th>\n",
       "      <th>m_clicks</th>\n",
       "      <th>m_cost</th>\n",
       "    </tr>\n",
       "  </thead>\n",
       "  <tbody>\n",
       "    <tr>\n",
       "      <th>0</th>\n",
       "      <td>2022-08-08</td>\n",
       "      <td>xo-for-client-ya</td>\n",
       "      <td>yandex</td>\n",
       "      <td>cpc</td>\n",
       "      <td>48306435</td>\n",
       "      <td>8404700756</td>\n",
       "      <td>None</td>\n",
       "      <td>2</td>\n",
       "      <td>48.840</td>\n",
       "    </tr>\n",
       "    <tr>\n",
       "      <th>1</th>\n",
       "      <td>2022-08-08</td>\n",
       "      <td>xo-for-client-ya</td>\n",
       "      <td>yandex</td>\n",
       "      <td>cpc</td>\n",
       "      <td>48306435</td>\n",
       "      <td>8813476161</td>\n",
       "      <td>None</td>\n",
       "      <td>3</td>\n",
       "      <td>100.776</td>\n",
       "    </tr>\n",
       "    <tr>\n",
       "      <th>2</th>\n",
       "      <td>2022-08-08</td>\n",
       "      <td>xo-for-client-ya</td>\n",
       "      <td>yandex</td>\n",
       "      <td>cpc</td>\n",
       "      <td>48306435</td>\n",
       "      <td>8813476162</td>\n",
       "      <td>None</td>\n",
       "      <td>1</td>\n",
       "      <td>10.140</td>\n",
       "    </tr>\n",
       "    <tr>\n",
       "      <th>3</th>\n",
       "      <td>2022-08-08</td>\n",
       "      <td>xo-for-client-ya</td>\n",
       "      <td>yandex</td>\n",
       "      <td>cpc</td>\n",
       "      <td>48306435</td>\n",
       "      <td>8813476163</td>\n",
       "      <td>None</td>\n",
       "      <td>0</td>\n",
       "      <td>0.000</td>\n",
       "    </tr>\n",
       "    <tr>\n",
       "      <th>4</th>\n",
       "      <td>2022-08-08</td>\n",
       "      <td>xo-for-client-ya</td>\n",
       "      <td>yandex</td>\n",
       "      <td>cpc</td>\n",
       "      <td>48306435</td>\n",
       "      <td>8813476164</td>\n",
       "      <td>None</td>\n",
       "      <td>0</td>\n",
       "      <td>0.000</td>\n",
       "    </tr>\n",
       "  </tbody>\n",
       "</table>\n",
       "</div>"
      ],
      "text/plain": [
       "   created_at   d_ad_account_id d_utm_source d_utm_medium d_utm_campaign  \\\n",
       "0  2022-08-08  xo-for-client-ya       yandex          cpc       48306435   \n",
       "1  2022-08-08  xo-for-client-ya       yandex          cpc       48306435   \n",
       "2  2022-08-08  xo-for-client-ya       yandex          cpc       48306435   \n",
       "3  2022-08-08  xo-for-client-ya       yandex          cpc       48306435   \n",
       "4  2022-08-08  xo-for-client-ya       yandex          cpc       48306435   \n",
       "\n",
       "  d_utm_content d_utm_term  m_clicks   m_cost  \n",
       "0    8404700756       None         2   48.840  \n",
       "1    8813476161       None         3  100.776  \n",
       "2    8813476162       None         1   10.140  \n",
       "3    8813476163       None         0    0.000  \n",
       "4    8813476164       None         0    0.000  "
      ]
     },
     "execution_count": 4,
     "metadata": {},
     "output_type": "execute_result"
    }
   ],
   "source": [
    "# посмотрим на таблицу ads\n",
    "sql = '''SELECT * FROM ads'''\n",
    "p = fr.Postgres()\n",
    "ads = p.get_df(sql)\n",
    "ads.head()"
   ]
  },
  {
   "cell_type": "code",
   "execution_count": 6,
   "id": "e7909c0c",
   "metadata": {
    "scrolled": true
   },
   "outputs": [
    {
     "name": "stdout",
     "output_type": "stream",
     "text": [
      "<class 'pandas.core.frame.DataFrame'>\n",
      "RangeIndex: 8602 entries, 0 to 8601\n",
      "Data columns (total 9 columns):\n",
      " #   Column           Non-Null Count  Dtype  \n",
      "---  ------           --------------  -----  \n",
      " 0   created_at       8602 non-null   object \n",
      " 1   d_ad_account_id  8602 non-null   object \n",
      " 2   d_utm_source     8602 non-null   object \n",
      " 3   d_utm_medium     8602 non-null   object \n",
      " 4   d_utm_campaign   8602 non-null   object \n",
      " 5   d_utm_content    8602 non-null   object \n",
      " 6   d_utm_term       0 non-null      object \n",
      " 7   m_clicks         8602 non-null   int64  \n",
      " 8   m_cost           8602 non-null   float64\n",
      "dtypes: float64(1), int64(1), object(7)\n",
      "memory usage: 605.0+ KB\n"
     ]
    }
   ],
   "source": [
    "ads.info()"
   ]
  },
  {
   "cell_type": "code",
   "execution_count": 7,
   "id": "1692ec61",
   "metadata": {},
   "outputs": [
    {
     "data": {
      "text/plain": [
       "0"
      ]
     },
     "execution_count": 7,
     "metadata": {},
     "output_type": "execute_result"
    }
   ],
   "source": [
    "# смотрим наличие дубликатов\n",
    "ads[['created_at', 'd_ad_account_id', 'd_utm_source', 'd_utm_medium', 'd_utm_campaign', 'd_utm_content', 'd_utm_term']]\\\n",
    "    .duplicated().sum()"
   ]
  },
  {
   "cell_type": "code",
   "execution_count": 8,
   "id": "bd330b96",
   "metadata": {},
   "outputs": [
    {
     "data": {
      "text/html": [
       "<div>\n",
       "<style scoped>\n",
       "    .dataframe tbody tr th:only-of-type {\n",
       "        vertical-align: middle;\n",
       "    }\n",
       "\n",
       "    .dataframe tbody tr th {\n",
       "        vertical-align: top;\n",
       "    }\n",
       "\n",
       "    .dataframe thead th {\n",
       "        text-align: right;\n",
       "    }\n",
       "</style>\n",
       "<table border=\"1\" class=\"dataframe\">\n",
       "  <thead>\n",
       "    <tr style=\"text-align: right;\">\n",
       "      <th></th>\n",
       "      <th>created_at</th>\n",
       "      <th>d_ad_account_id</th>\n",
       "      <th>d_utm_source</th>\n",
       "      <th>d_utm_medium</th>\n",
       "      <th>d_utm_campaign</th>\n",
       "      <th>d_utm_content</th>\n",
       "      <th>d_utm_term</th>\n",
       "      <th>m_clicks</th>\n",
       "      <th>m_cost</th>\n",
       "    </tr>\n",
       "  </thead>\n",
       "  <tbody>\n",
       "  </tbody>\n",
       "</table>\n",
       "</div>"
      ],
      "text/plain": [
       "Empty DataFrame\n",
       "Columns: [created_at, d_ad_account_id, d_utm_source, d_utm_medium, d_utm_campaign, d_utm_content, d_utm_term, m_clicks, m_cost]\n",
       "Index: []"
      ]
     },
     "execution_count": 8,
     "metadata": {},
     "output_type": "execute_result"
    }
   ],
   "source": [
    "# проверим на логическое несоответствие показателей m_clicks и m_cost\n",
    "ads.query('(m_clicks==0&m_cost!=0)|(m_clicks!=0&m_cost==0)')"
   ]
  },
  {
   "cell_type": "code",
   "execution_count": 9,
   "id": "e5e58594",
   "metadata": {},
   "outputs": [
    {
     "data": {
      "text/html": [
       "<div>\n",
       "<style scoped>\n",
       "    .dataframe tbody tr th:only-of-type {\n",
       "        vertical-align: middle;\n",
       "    }\n",
       "\n",
       "    .dataframe tbody tr th {\n",
       "        vertical-align: top;\n",
       "    }\n",
       "\n",
       "    .dataframe thead th {\n",
       "        text-align: right;\n",
       "    }\n",
       "</style>\n",
       "<table border=\"1\" class=\"dataframe\">\n",
       "  <thead>\n",
       "    <tr style=\"text-align: right;\">\n",
       "      <th></th>\n",
       "      <th>created_at</th>\n",
       "      <th>d_ad_account_id</th>\n",
       "      <th>d_utm_source</th>\n",
       "      <th>d_utm_medium</th>\n",
       "      <th>d_utm_campaign</th>\n",
       "      <th>d_utm_content</th>\n",
       "      <th>d_utm_term</th>\n",
       "      <th>m_clicks</th>\n",
       "      <th>m_cost</th>\n",
       "    </tr>\n",
       "  </thead>\n",
       "  <tbody>\n",
       "    <tr>\n",
       "      <th>3</th>\n",
       "      <td>2022-08-08</td>\n",
       "      <td>xo-for-client-ya</td>\n",
       "      <td>yandex</td>\n",
       "      <td>cpc</td>\n",
       "      <td>48306435</td>\n",
       "      <td>8813476163</td>\n",
       "      <td>None</td>\n",
       "      <td>0</td>\n",
       "      <td>0.0</td>\n",
       "    </tr>\n",
       "    <tr>\n",
       "      <th>4</th>\n",
       "      <td>2022-08-08</td>\n",
       "      <td>xo-for-client-ya</td>\n",
       "      <td>yandex</td>\n",
       "      <td>cpc</td>\n",
       "      <td>48306435</td>\n",
       "      <td>8813476164</td>\n",
       "      <td>None</td>\n",
       "      <td>0</td>\n",
       "      <td>0.0</td>\n",
       "    </tr>\n",
       "    <tr>\n",
       "      <th>7</th>\n",
       "      <td>2022-08-08</td>\n",
       "      <td>xo-for-client-ya</td>\n",
       "      <td>yandex</td>\n",
       "      <td>cpc</td>\n",
       "      <td>48306450</td>\n",
       "      <td>8404701663</td>\n",
       "      <td>None</td>\n",
       "      <td>0</td>\n",
       "      <td>0.0</td>\n",
       "    </tr>\n",
       "    <tr>\n",
       "      <th>10</th>\n",
       "      <td>2022-08-08</td>\n",
       "      <td>xo-for-client-ya</td>\n",
       "      <td>yandex</td>\n",
       "      <td>cpc</td>\n",
       "      <td>48306473</td>\n",
       "      <td>8404704716</td>\n",
       "      <td>None</td>\n",
       "      <td>0</td>\n",
       "      <td>0.0</td>\n",
       "    </tr>\n",
       "    <tr>\n",
       "      <th>11</th>\n",
       "      <td>2022-08-08</td>\n",
       "      <td>xo-for-client-ya</td>\n",
       "      <td>yandex</td>\n",
       "      <td>cpc</td>\n",
       "      <td>48306473</td>\n",
       "      <td>8813432765</td>\n",
       "      <td>None</td>\n",
       "      <td>0</td>\n",
       "      <td>0.0</td>\n",
       "    </tr>\n",
       "    <tr>\n",
       "      <th>...</th>\n",
       "      <td>...</td>\n",
       "      <td>...</td>\n",
       "      <td>...</td>\n",
       "      <td>...</td>\n",
       "      <td>...</td>\n",
       "      <td>...</td>\n",
       "      <td>...</td>\n",
       "      <td>...</td>\n",
       "      <td>...</td>\n",
       "    </tr>\n",
       "    <tr>\n",
       "      <th>8597</th>\n",
       "      <td>2022-07-10</td>\n",
       "      <td>xo-for-client-ya</td>\n",
       "      <td>yandex</td>\n",
       "      <td>cpc</td>\n",
       "      <td>48306518</td>\n",
       "      <td>8813477628</td>\n",
       "      <td>None</td>\n",
       "      <td>0</td>\n",
       "      <td>0.0</td>\n",
       "    </tr>\n",
       "    <tr>\n",
       "      <th>8598</th>\n",
       "      <td>2022-07-10</td>\n",
       "      <td>xo-for-client-ya</td>\n",
       "      <td>yandex</td>\n",
       "      <td>cpc</td>\n",
       "      <td>48306518</td>\n",
       "      <td>8813477629</td>\n",
       "      <td>None</td>\n",
       "      <td>0</td>\n",
       "      <td>0.0</td>\n",
       "    </tr>\n",
       "    <tr>\n",
       "      <th>8599</th>\n",
       "      <td>2022-07-10</td>\n",
       "      <td>xo-for-client-ya</td>\n",
       "      <td>yandex</td>\n",
       "      <td>cpc</td>\n",
       "      <td>48306518</td>\n",
       "      <td>8404708323</td>\n",
       "      <td>None</td>\n",
       "      <td>0</td>\n",
       "      <td>0.0</td>\n",
       "    </tr>\n",
       "    <tr>\n",
       "      <th>8600</th>\n",
       "      <td>2022-07-10</td>\n",
       "      <td>xo-for-client-ya</td>\n",
       "      <td>yandex</td>\n",
       "      <td>cpc</td>\n",
       "      <td>48306518</td>\n",
       "      <td>8404708324</td>\n",
       "      <td>None</td>\n",
       "      <td>0</td>\n",
       "      <td>0.0</td>\n",
       "    </tr>\n",
       "    <tr>\n",
       "      <th>8601</th>\n",
       "      <td>2022-07-10</td>\n",
       "      <td>xo-for-client-ya</td>\n",
       "      <td>yandex</td>\n",
       "      <td>cpc</td>\n",
       "      <td>48306518</td>\n",
       "      <td>8813477631</td>\n",
       "      <td>None</td>\n",
       "      <td>0</td>\n",
       "      <td>0.0</td>\n",
       "    </tr>\n",
       "  </tbody>\n",
       "</table>\n",
       "<p>4391 rows × 9 columns</p>\n",
       "</div>"
      ],
      "text/plain": [
       "      created_at   d_ad_account_id d_utm_source d_utm_medium d_utm_campaign  \\\n",
       "3     2022-08-08  xo-for-client-ya       yandex          cpc       48306435   \n",
       "4     2022-08-08  xo-for-client-ya       yandex          cpc       48306435   \n",
       "7     2022-08-08  xo-for-client-ya       yandex          cpc       48306450   \n",
       "10    2022-08-08  xo-for-client-ya       yandex          cpc       48306473   \n",
       "11    2022-08-08  xo-for-client-ya       yandex          cpc       48306473   \n",
       "...          ...               ...          ...          ...            ...   \n",
       "8597  2022-07-10  xo-for-client-ya       yandex          cpc       48306518   \n",
       "8598  2022-07-10  xo-for-client-ya       yandex          cpc       48306518   \n",
       "8599  2022-07-10  xo-for-client-ya       yandex          cpc       48306518   \n",
       "8600  2022-07-10  xo-for-client-ya       yandex          cpc       48306518   \n",
       "8601  2022-07-10  xo-for-client-ya       yandex          cpc       48306518   \n",
       "\n",
       "     d_utm_content d_utm_term  m_clicks  m_cost  \n",
       "3       8813476163       None         0     0.0  \n",
       "4       8813476164       None         0     0.0  \n",
       "7       8404701663       None         0     0.0  \n",
       "10      8404704716       None         0     0.0  \n",
       "11      8813432765       None         0     0.0  \n",
       "...            ...        ...       ...     ...  \n",
       "8597    8813477628       None         0     0.0  \n",
       "8598    8813477629       None         0     0.0  \n",
       "8599    8404708323       None         0     0.0  \n",
       "8600    8404708324       None         0     0.0  \n",
       "8601    8813477631       None         0     0.0  \n",
       "\n",
       "[4391 rows x 9 columns]"
      ]
     },
     "execution_count": 9,
     "metadata": {},
     "output_type": "execute_result"
    }
   ],
   "source": [
    "ads.query('m_clicks==0')"
   ]
  },
  {
   "cell_type": "markdown",
   "id": "91685bb9",
   "metadata": {},
   "source": [
    "Такие строки, где количество кликов равно нулю, нас не интересуют и в SQL запросе мы их отфильтруем, так как не являются объектом анализа. Вероятно в таблицу ads они попали по ошибке."
   ]
  },
  {
   "cell_type": "code",
   "execution_count": 10,
   "id": "1d363d87",
   "metadata": {
    "scrolled": false
   },
   "outputs": [
    {
     "data": {
      "text/plain": [
       "created_at          254\n",
       "d_ad_account_id       1\n",
       "d_utm_source          1\n",
       "d_utm_medium          1\n",
       "d_utm_campaign       10\n",
       "d_utm_content       121\n",
       "d_utm_term            0\n",
       "m_clicks             35\n",
       "m_cost             3682\n",
       "dtype: int64"
      ]
     },
     "execution_count": 10,
     "metadata": {},
     "output_type": "execute_result"
    }
   ],
   "source": [
    "# количество уникальных значений в столбцах\n",
    "ads.nunique()"
   ]
  },
  {
   "cell_type": "markdown",
   "id": "40ec2ddf",
   "metadata": {},
   "source": [
    "Видим, что источник трафика (utm_source) единственный, так же как и тип трафика. Рекламных кампаний всего 10, им присвоены номера."
   ]
  },
  {
   "cell_type": "code",
   "execution_count": 11,
   "id": "903d9b63",
   "metadata": {},
   "outputs": [
    {
     "data": {
      "text/plain": [
       "array(['48306435', '48306450', '48306473', '48306487', '48306494',\n",
       "       '48306518', '48306461', '48306469', '60279528', '72000794'],\n",
       "      dtype=object)"
      ]
     },
     "execution_count": 11,
     "metadata": {},
     "output_type": "execute_result"
    }
   ],
   "source": [
    "ads.d_utm_campaign.unique()"
   ]
  },
  {
   "cell_type": "code",
   "execution_count": 12,
   "id": "1aac32ab",
   "metadata": {
    "scrolled": false
   },
   "outputs": [
    {
     "data": {
      "text/html": [
       "<div>\n",
       "<style scoped>\n",
       "    .dataframe tbody tr th:only-of-type {\n",
       "        vertical-align: middle;\n",
       "    }\n",
       "\n",
       "    .dataframe tbody tr th {\n",
       "        vertical-align: top;\n",
       "    }\n",
       "\n",
       "    .dataframe thead th {\n",
       "        text-align: right;\n",
       "    }\n",
       "</style>\n",
       "<table border=\"1\" class=\"dataframe\">\n",
       "  <thead>\n",
       "    <tr style=\"text-align: right;\">\n",
       "      <th></th>\n",
       "      <th>lead_created_at</th>\n",
       "      <th>lead_id</th>\n",
       "      <th>d_lead_utm_source</th>\n",
       "      <th>d_lead_utm_medium</th>\n",
       "      <th>d_lead_utm_campaign</th>\n",
       "      <th>d_lead_utm_content</th>\n",
       "      <th>d_lead_utm_term</th>\n",
       "      <th>client_id</th>\n",
       "    </tr>\n",
       "  </thead>\n",
       "  <tbody>\n",
       "    <tr>\n",
       "      <th>0</th>\n",
       "      <td>2022-10-16</td>\n",
       "      <td>d8c4a9e8-4d4a-11ed-907e-848f69e142cf</td>\n",
       "      <td>None</td>\n",
       "      <td>None</td>\n",
       "      <td>None</td>\n",
       "      <td>None</td>\n",
       "      <td>None</td>\n",
       "      <td>d8c4a9e9-4d4a-11ed-907e-848f69e142cf</td>\n",
       "    </tr>\n",
       "    <tr>\n",
       "      <th>1</th>\n",
       "      <td>2022-10-16</td>\n",
       "      <td>c48f9767-4d4a-11ed-907e-848f69e142cf</td>\n",
       "      <td>None</td>\n",
       "      <td>None</td>\n",
       "      <td>None</td>\n",
       "      <td>None</td>\n",
       "      <td>None</td>\n",
       "      <td>c48f9768-4d4a-11ed-907e-848f69e142cf</td>\n",
       "    </tr>\n",
       "    <tr>\n",
       "      <th>2</th>\n",
       "      <td>2022-10-16</td>\n",
       "      <td>d74ac455-4d49-11ed-907e-848f69e142cf</td>\n",
       "      <td>vkontakte</td>\n",
       "      <td>social</td>\n",
       "      <td>kartasetevaya</td>\n",
       "      <td>None</td>\n",
       "      <td>None</td>\n",
       "      <td>f64c97d5-31ff-11ea-abeb-c412f533dba1</td>\n",
       "    </tr>\n",
       "    <tr>\n",
       "      <th>3</th>\n",
       "      <td>2022-10-16</td>\n",
       "      <td>0f69e77d-4d46-11ed-907e-848f69e142cf</td>\n",
       "      <td>None</td>\n",
       "      <td>None</td>\n",
       "      <td>None</td>\n",
       "      <td>None</td>\n",
       "      <td>None</td>\n",
       "      <td>None</td>\n",
       "    </tr>\n",
       "    <tr>\n",
       "      <th>4</th>\n",
       "      <td>2022-10-16</td>\n",
       "      <td>620ee1eb-4d45-11ed-907e-848f69e142cf</td>\n",
       "      <td>ycard</td>\n",
       "      <td>social</td>\n",
       "      <td>all</td>\n",
       "      <td>None</td>\n",
       "      <td>None</td>\n",
       "      <td>None</td>\n",
       "    </tr>\n",
       "  </tbody>\n",
       "</table>\n",
       "</div>"
      ],
      "text/plain": [
       "  lead_created_at                               lead_id d_lead_utm_source  \\\n",
       "0      2022-10-16  d8c4a9e8-4d4a-11ed-907e-848f69e142cf              None   \n",
       "1      2022-10-16  c48f9767-4d4a-11ed-907e-848f69e142cf              None   \n",
       "2      2022-10-16  d74ac455-4d49-11ed-907e-848f69e142cf         vkontakte   \n",
       "3      2022-10-16  0f69e77d-4d46-11ed-907e-848f69e142cf              None   \n",
       "4      2022-10-16  620ee1eb-4d45-11ed-907e-848f69e142cf             ycard   \n",
       "\n",
       "  d_lead_utm_medium d_lead_utm_campaign d_lead_utm_content d_lead_utm_term  \\\n",
       "0              None                None               None            None   \n",
       "1              None                None               None            None   \n",
       "2            social       kartasetevaya               None            None   \n",
       "3              None                None               None            None   \n",
       "4            social                 all               None            None   \n",
       "\n",
       "                              client_id  \n",
       "0  d8c4a9e9-4d4a-11ed-907e-848f69e142cf  \n",
       "1  c48f9768-4d4a-11ed-907e-848f69e142cf  \n",
       "2  f64c97d5-31ff-11ea-abeb-c412f533dba1  \n",
       "3                                  None  \n",
       "4                                  None  "
      ]
     },
     "execution_count": 12,
     "metadata": {},
     "output_type": "execute_result"
    }
   ],
   "source": [
    "# посмотрим на таблицу leads\n",
    "sql = '''SELECT * FROM leads'''\n",
    "p = fr.Postgres()\n",
    "leads = p.get_df(sql)\n",
    "leads.head()"
   ]
  },
  {
   "cell_type": "code",
   "execution_count": 13,
   "id": "eae0b193",
   "metadata": {
    "scrolled": true
   },
   "outputs": [
    {
     "name": "stdout",
     "output_type": "stream",
     "text": [
      "<class 'pandas.core.frame.DataFrame'>\n",
      "RangeIndex: 23540 entries, 0 to 23539\n",
      "Data columns (total 8 columns):\n",
      " #   Column               Non-Null Count  Dtype \n",
      "---  ------               --------------  ----- \n",
      " 0   lead_created_at      23540 non-null  object\n",
      " 1   lead_id              23540 non-null  object\n",
      " 2   d_lead_utm_source    12331 non-null  object\n",
      " 3   d_lead_utm_medium    10100 non-null  object\n",
      " 4   d_lead_utm_campaign  9569 non-null   object\n",
      " 5   d_lead_utm_content   3338 non-null   object\n",
      " 6   d_lead_utm_term      328 non-null    object\n",
      " 7   client_id            18601 non-null  object\n",
      "dtypes: object(8)\n",
      "memory usage: 1.4+ MB\n"
     ]
    }
   ],
   "source": [
    "leads.info()"
   ]
  },
  {
   "cell_type": "markdown",
   "id": "5de2b3cc",
   "metadata": {},
   "source": [
    "Проверим таблицу leads на дубликаты в данных. Такое могло случиться например если client_id отсутствует, среди таких строк мы не будем искать дубликаты."
   ]
  },
  {
   "cell_type": "code",
   "execution_count": 14,
   "id": "c7d81eaf",
   "metadata": {
    "scrolled": false
   },
   "outputs": [
    {
     "data": {
      "text/plain": [
       "150"
      ]
     },
     "execution_count": 14,
     "metadata": {},
     "output_type": "execute_result"
    }
   ],
   "source": [
    "leads[['lead_created_at', \n",
    "       'd_lead_utm_source', \n",
    "       'd_lead_utm_medium', \n",
    "       'd_lead_utm_campaign', \n",
    "       'd_lead_utm_content', \n",
    "       'd_lead_utm_term', \n",
    "       'client_id']]\\\n",
    "    .fillna(0).query('client_id!=0').duplicated().sum()"
   ]
  },
  {
   "cell_type": "markdown",
   "id": "65a840ec",
   "metadata": {},
   "source": [
    "Таких строк 150. От этих дубликатов необходимо избавиться при составлении SQL запроса. \n",
    "При этом, если client_id пустое, то эти строки мы не трогаем (т.к. это могли быть разные клиенты). Если client_id не пустое, то группируем таблицу по всем столбцам, кроме lead_id, а из lead_id возьмем одно значение, например MIN."
   ]
  },
  {
   "cell_type": "code",
   "execution_count": 15,
   "id": "87a2bd50",
   "metadata": {
    "scrolled": true
   },
   "outputs": [
    {
     "data": {
      "text/plain": [
       "lead_created_at          289\n",
       "lead_id                23540\n",
       "d_lead_utm_source         49\n",
       "d_lead_utm_medium         14\n",
       "d_lead_utm_campaign      175\n",
       "d_lead_utm_content       135\n",
       "d_lead_utm_term           16\n",
       "client_id              16164\n",
       "dtype: int64"
      ]
     },
     "execution_count": 15,
     "metadata": {},
     "output_type": "execute_result"
    }
   ],
   "source": [
    "# количество уникальных значений в столбцах\n",
    "leads.nunique()"
   ]
  },
  {
   "cell_type": "markdown",
   "id": "a48bc83e",
   "metadata": {},
   "source": [
    "В таблице leads по сравнению с таблицей ads уже 175 рекламных кампаний, 49 источников трафика и 14 типов трафика."
   ]
  },
  {
   "cell_type": "code",
   "execution_count": 16,
   "id": "7628e122",
   "metadata": {
    "scrolled": true
   },
   "outputs": [
    {
     "data": {
      "text/plain": [
       "array([None, 'vkontakte', 'ycard', 'vk', 'vkmegacity', 'sms', 'instagram',\n",
       "       'zvonobot', 'yandex', 'whatsapp', 'kviz', 'megacity', 'VOICEROBOT',\n",
       "       'telegram', 'viber', 'eLama-google', 'site', 'df310722',\n",
       "       'ycard#!/tproduct/323718988-1498486301712', 'google',\n",
       "       'clients_day', 'inst', 'intagram', 'lift', 'banner', 'razdatka',\n",
       "       'outdoor', 'promo1', 'promo5', 'promo6', 'promo3', 'promo2',\n",
       "       'promo8', 'promo7', 'ff110922', 'promo11', 'pt1109', 'vkontakteso',\n",
       "       'zapisnatrenirovk', 'ycard#!/tproduct/323718988-1646116631071',\n",
       "       'dz1809', 'ycard#!/tproduct/323718988-1498486363994',\n",
       "       'telegramsamara', 'vkmegasity', 'vkontakteknopka',\n",
       "       'vkontaktereklama', 'navigaciya', 'megasity', '%utm_source%',\n",
       "       'vkontaktevertical'], dtype=object)"
      ]
     },
     "execution_count": 16,
     "metadata": {},
     "output_type": "execute_result"
    }
   ],
   "source": [
    "leads.d_lead_utm_source.unique()"
   ]
  },
  {
   "cell_type": "markdown",
   "id": "fe781adf",
   "metadata": {},
   "source": [
    "Видим, что в d_lead_utm_source нет единого стандарта наименования источника, и если бы единственный источник в ads был бы не яндекс, а вконтакте, то данные пришлось бы приводить к единому стандарту."
   ]
  },
  {
   "cell_type": "code",
   "execution_count": 17,
   "id": "e16f1aaf",
   "metadata": {
    "scrolled": true
   },
   "outputs": [
    {
     "data": {
      "text/plain": [
       "array([None, 'social', 'cpc', 'email', 'organic', 'banner', 'razdatka',\n",
       "       'zvonobot', 'sociak', 'cpa', 'vk', 'socia', 'banne', 'mobile',\n",
       "       '%utm_medium%'], dtype=object)"
      ]
     },
     "execution_count": 17,
     "metadata": {},
     "output_type": "execute_result"
    }
   ],
   "source": [
    "leads.d_lead_utm_medium.unique()"
   ]
  },
  {
   "cell_type": "markdown",
   "id": "3931a251",
   "metadata": {},
   "source": [
    "Также видим погрешности в наименованиях (banner-banne, social-sociak-socia), но единственным типом трафика в ads является cpc, так что снова можем не заниматься чисткой данных."
   ]
  },
  {
   "cell_type": "code",
   "execution_count": 18,
   "id": "3feab8f5",
   "metadata": {
    "scrolled": false
   },
   "outputs": [
    {
     "data": {
      "text/plain": [
       "array([None, 'kartasetevaya', 'all', 'student', '15', '2', '900', '100',\n",
       "       'fizmega', '1', '50', '78599498', '48306487', '48306435',\n",
       "       '48306494', '1310', '3', '48306473', '48306450', '1rubl', 'akcii',\n",
       "       '48306518', '600', 'bchk', '70', 'massage30', 'skidka_na_pt',\n",
       "       'massage', '590', 'boxdety', '9000', 'outdoor', 'clients_day',\n",
       "       '23849174920830725', 'Поиск II Брендовые запросы',\n",
       "       '23849173065740725', '14', '30', '23849240299850725', '60279528',\n",
       "       '23849255068610725', 'fitboxing', 'fizmefa', '700', 'welcome',\n",
       "       'leto3', 'leto', 'lift', 'fitboxingvk', 'setevaya8', '8655725448',\n",
       "       'fitnessleto', 'fitness25', 'detfitness', '8', 'zav', 'sixplussix',\n",
       "       'deti290', 'denclienta', '6 6', 'inbody', 'detsifitnes', '1-3',\n",
       "       'zapisnatrenirovk', 'trenirovki', '4cluba', '90', '-90', 'freemk',\n",
       "       'letofitness', '3mes', '5500', '55', 'smart', '2022podarok',\n",
       "       'kviz', '31-07', 'klient', '72000794', '290', '27-07-2', '27-07',\n",
       "       'sale90', '20-07', '3m', '200', '20skidka', '23849306285840725',\n",
       "       '12/6', '23849363481940725', '23849346347880725', '12-6',\n",
       "       '23849348000220725', 'fitness200', '6', '3days', '13', 'detfit40',\n",
       "       'samaraonline', '23849378541650725', '3days#prodpopup',\n",
       "       '23849395337180725', '18_08', '490', '17_08', '40skidka', '22/08',\n",
       "       '2308', '22.08', '1109', '2508', '3pt', 'massage#rec426299211',\n",
       "       '6mpodarok', 'ms', '0809', '23849452138530725', 'gag', 'vesna',\n",
       "       '40', 'gostevoi', 'samara_163', '23849534661770725', 'pt',\n",
       "       'samara', 'samara_news', '23849577741820725', '23849577705150725',\n",
       "       '8/12', '23849578961790725', '3 3', '1021465907', 'tvoitai',\n",
       "       '48306469', '23849073969030725', '23849084723010725', '2cardss',\n",
       "       '23849085020030725', 'sportclass', 'boxdety_botanika63',\n",
       "       'geo_2_km', '1809', '09', 'fitness_spa', 'all#rec215018537',\n",
       "       'page13539795', '6799', '23849174878630725', '1022762509', '499',\n",
       "       '0609', '1110', '0509_04', '0509_03', 'setevaya', '0509_01',\n",
       "       'zapis_pt', 'smart#form', 'fizmegaanna', '0509_02', '8/12🔥',\n",
       "       'boxdety_ovrag', 'detfit20', '3leto', '35', 'cpc',\n",
       "       'personalnaytrenirovka', 'razdatka', 'abonement', 'setevaycarta',\n",
       "       'bezlimit4cluba', '%utm_campaign%', '900\\\\', '48306461', '3+3',\n",
       "       '23849166436760725'], dtype=object)"
      ]
     },
     "execution_count": 18,
     "metadata": {},
     "output_type": "execute_result"
    }
   ],
   "source": [
    "leads.d_lead_utm_campaign.unique()"
   ]
  },
  {
   "cell_type": "code",
   "execution_count": 19,
   "id": "9df4cbe0",
   "metadata": {
    "scrolled": false
   },
   "outputs": [
    {
     "data": {
      "text/plain": [
       "array([None, '12793456335', '8813469521', '8813476164', '8813466151',\n",
       "       '8404707872', '8404704716', '8404701661', '8813466152',\n",
       "       'mainbottom', '8813432768', 'rightbottom', '8813477633',\n",
       "       '8404707410', '8813469522', '8404701665', '8404701664',\n",
       "       '8404701659', '8813432765', '8813466153', '8404701663',\n",
       "       '8813476163', '8404707871', '8404700756', '8404708337',\n",
       "       '8813469520', '8404708310', '8813477629', '8404708297',\n",
       "       '8813477638', '8813469519', 'lk', '8813477631', '8404707409',\n",
       "       '23849174920860725',\n",
       "       'cid|8655725448|gid|87321288392|aid|406968478995|dvc|m|pid|kwd-364810444776|pos||adn|g|mt|e',\n",
       "       '23849173065770725', '23849174920850725', '8813476162',\n",
       "       '23849173065730725', '8404700757', '8813477626', '8813477627',\n",
       "       '8813477634', '8813466154', '23849240299830725',\n",
       "       'cid|8655725448|gid|87321288192|aid|406968478989|dvc|m|pid|kwd-314360287610|pos||adn|g|mt|b',\n",
       "       '23849240299820725', '8813477637', '10538265370', '8813476161',\n",
       "       '23849255068620725', '8404704717', '8813432767',\n",
       "       'cid|8655725448|gid|87321288232|aid|406968478992|dvc|m|pid|kwd-423256936203|pos||adn|g|mt|e',\n",
       "       '8813432766',\n",
       "       'cid|8655725448|gid|87321288192|aid|406968478989|dvc|m|pid|kwd-446748891068|pos||adn|g|mt|e',\n",
       "       '23849276002630725', '{ad_id}', '406968478995',\n",
       "       'cid|8655725448|gid|87321288232|aid|406968478992|dvc|m|pid|kwd-314274156200|pos||adn|g|mt|b',\n",
       "       '23849255068650725', '8813477624',\n",
       "       'cid|8655725448|gid|87321288432|aid|406968478998|dvc|m|pid|kwd-312358011968|pos||adn|g|mt|b',\n",
       "       '8813477628', '8813477630', '8813477623', '11844860346',\n",
       "       '8813477625',\n",
       "       'cid|8655725448|gid|87321288472|aid|406968479001|dvc|m|pid|kwd-375085427186|pos||adn|g|mt|b',\n",
       "       '23849306285850725',\n",
       "       'cid|8655725448|gid|87321288392|aid|406968478995|dvc|c|pid|kwd-364810444776|pos||adn|g|mt|e',\n",
       "       '23849363481930725', '23849363481950725', '23849346347870725',\n",
       "       '406968478992', '23849348000250725', '23849346347860725',\n",
       "       '23849348000240725',\n",
       "       'cid|8655725448|gid|87321288392|aid|406968478995|dvc|m|pid|kwd-365131341830|pos||adn|g|mt|b',\n",
       "       'cid|8655725448|gid|87321288392|aid|406968478995|dvc|c|pid|kwd-365131341830|pos||adn|g|mt|b',\n",
       "       'mainbottom#prodpopup', '23849378541660725', '23849395337160725',\n",
       "       '23849395337170725', '23849378541670725',\n",
       "       'cid|8655725448|gid|87321288432|aid|406968478998|dvc|m|pid|kwd-301090197011|pos||adn|g|mt|e',\n",
       "       'cid|8655725448|gid|87321288472|aid|406968479001|dvc|m|pid|kwd-423256935723|pos||adn|g|mt|e',\n",
       "       'cid|8655725448|gid|87321288232|aid|406968478992|dvc|c|pid|kwd-423256936203|pos||adn|g|mt|e',\n",
       "       '23849452234500725', '23849452249640725',\n",
       "       'cid|8655725448|gid|87321288192|aid|406968478989|dvc|c|pid|kwd-314360287610|pos||adn|g|mt|b',\n",
       "       '12793456336', '23849452138540725', '23849452138520725',\n",
       "       '23849534661850725', '23849517487010725', '23849577751130725',\n",
       "       '23849577705180725', '23849578961810725', '23849578961820725',\n",
       "       '23849577741840725', '23849577719690725', '23849577741850725',\n",
       "       '23849577705170725', '110543733', '8404708311', '11844860345',\n",
       "       '8404704276', '23849073969000725', '23849073969020725',\n",
       "       '23849084723000725', '23849085020010725', '8404708336',\n",
       "       '11844860348', 'video_trener', '406968478998', '12793456333',\n",
       "       '12793456334', '23849084722970725', '23849174878650725',\n",
       "       '114562044', '8404708298', '23849306285860725',\n",
       "       'cid|8655725448|gid|87321288232|aid|406968478992|dvc|c|pid|kwd-314274156200|pos||adn|g|mt|b',\n",
       "       '8404704275', '10538265373', '23849085020040725', '8404708323',\n",
       "       '406968478989', '8813477636',\n",
       "       'cid|8655725448|gid|87321288432|aid|406968478998|dvc|c|pid|kwd-301090197011|pos||adn|g|mt|e',\n",
       "       '11844860347', '%utm_content%', '8404702656', '23849166436740725'],\n",
       "      dtype=object)"
      ]
     },
     "execution_count": 19,
     "metadata": {},
     "output_type": "execute_result"
    }
   ],
   "source": [
    "leads.d_lead_utm_content.unique()"
   ]
  },
  {
   "cell_type": "markdown",
   "id": "01ae520a",
   "metadata": {},
   "source": [
    "В соответствии с этой статьей https://vc.ru/marketing/83142-gramotnye-utm-metki-dlya-skvoznoy-analitiki  \n",
    "и данной в ней конструкцией ссылки  \n",
    "http://example.com/?utm_source=yandex&utm_medium=cpc&utm_campaign={campaign_id}&utm_content={ad_id}&utm_term={keyword}&utmstat=us|yandex|cid|{campaign_id}|aid|{ad_id}|gid|{gbid}|pid|{phrase_id}|keyword|{keyword}|position_type|{position_type}|source|{source}|region|{region_id}|device|{device_type} я попробовала предположить, что повторяющееся \"...cid|8655725448|...\" - это d_lead_utm_campaign или в соответствии с аббревиатурой d_lead_utm_content на крайний случай. Таблицу leads необходимо будет соединять с таблицей ads, поэтому нас волнует, есть ли такой номер в столбцах d_utm_campaign или d_utm_content."
   ]
  },
  {
   "cell_type": "code",
   "execution_count": 20,
   "id": "bd4870d1",
   "metadata": {},
   "outputs": [
    {
     "data": {
      "text/plain": [
       "False"
      ]
     },
     "execution_count": 20,
     "metadata": {},
     "output_type": "execute_result"
    }
   ],
   "source": [
    "8655725448 in ads.d_utm_campaign.unique() or 8655725448 in ads.d_utm_content.unique()"
   ]
  },
  {
   "cell_type": "markdown",
   "id": "378bb4fb",
   "metadata": {},
   "source": [
    "Данный номер не встречается в столбцах campaign и content таблицы ads, значит, не будем пытаться вычленить оттуда номера."
   ]
  },
  {
   "cell_type": "code",
   "execution_count": 21,
   "id": "bc24bd05",
   "metadata": {},
   "outputs": [
    {
     "data": {
      "text/html": [
       "<div>\n",
       "<style scoped>\n",
       "    .dataframe tbody tr th:only-of-type {\n",
       "        vertical-align: middle;\n",
       "    }\n",
       "\n",
       "    .dataframe tbody tr th {\n",
       "        vertical-align: top;\n",
       "    }\n",
       "\n",
       "    .dataframe thead th {\n",
       "        text-align: right;\n",
       "    }\n",
       "</style>\n",
       "<table border=\"1\" class=\"dataframe\">\n",
       "  <thead>\n",
       "    <tr style=\"text-align: right;\">\n",
       "      <th></th>\n",
       "      <th>purchases_created_at</th>\n",
       "      <th>purchase_id</th>\n",
       "      <th>client_id</th>\n",
       "      <th>m_purchase_amount</th>\n",
       "    </tr>\n",
       "  </thead>\n",
       "  <tbody>\n",
       "    <tr>\n",
       "      <th>0</th>\n",
       "      <td>2022-02-21</td>\n",
       "      <td>d3198d39-6d16-40c9-bff7-aa28bd6e2991</td>\n",
       "      <td>7011bdcd-6fd8-11e7-80fc-c412f533dba1</td>\n",
       "      <td>9950</td>\n",
       "    </tr>\n",
       "    <tr>\n",
       "      <th>1</th>\n",
       "      <td>2022-02-21</td>\n",
       "      <td>48a0ad24-77aa-4064-a971-dd0d6f1f6c50</td>\n",
       "      <td>a2771bb0-6fd6-11e7-80fc-c412f533dba1</td>\n",
       "      <td>8700</td>\n",
       "    </tr>\n",
       "    <tr>\n",
       "      <th>2</th>\n",
       "      <td>2022-02-21</td>\n",
       "      <td>267ff20f-a56c-480a-b2f7-1f7b1a746f9f</td>\n",
       "      <td>2687f503-6fd7-11e7-80fc-c412f533dba1</td>\n",
       "      <td>0</td>\n",
       "    </tr>\n",
       "    <tr>\n",
       "      <th>3</th>\n",
       "      <td>2022-02-21</td>\n",
       "      <td>19fba5f0-785d-45bd-903a-34ba529c6404</td>\n",
       "      <td>01122a97-45bc-11eb-ac23-c412f533dba1</td>\n",
       "      <td>8700</td>\n",
       "    </tr>\n",
       "    <tr>\n",
       "      <th>4</th>\n",
       "      <td>2022-02-21</td>\n",
       "      <td>00ac921d-32e3-4200-9435-a46d5fef4a29</td>\n",
       "      <td>a55b8c4e-d5a3-11e9-abbe-c412f533dba1</td>\n",
       "      <td>500</td>\n",
       "    </tr>\n",
       "  </tbody>\n",
       "</table>\n",
       "</div>"
      ],
      "text/plain": [
       "  purchases_created_at                           purchase_id  \\\n",
       "0           2022-02-21  d3198d39-6d16-40c9-bff7-aa28bd6e2991   \n",
       "1           2022-02-21  48a0ad24-77aa-4064-a971-dd0d6f1f6c50   \n",
       "2           2022-02-21  267ff20f-a56c-480a-b2f7-1f7b1a746f9f   \n",
       "3           2022-02-21  19fba5f0-785d-45bd-903a-34ba529c6404   \n",
       "4           2022-02-21  00ac921d-32e3-4200-9435-a46d5fef4a29   \n",
       "\n",
       "                              client_id  m_purchase_amount  \n",
       "0  7011bdcd-6fd8-11e7-80fc-c412f533dba1               9950  \n",
       "1  a2771bb0-6fd6-11e7-80fc-c412f533dba1               8700  \n",
       "2  2687f503-6fd7-11e7-80fc-c412f533dba1                  0  \n",
       "3  01122a97-45bc-11eb-ac23-c412f533dba1               8700  \n",
       "4  a55b8c4e-d5a3-11e9-abbe-c412f533dba1                500  "
      ]
     },
     "execution_count": 21,
     "metadata": {},
     "output_type": "execute_result"
    }
   ],
   "source": [
    "# посмотрим на таблицу purchases\n",
    "sql = '''SELECT * FROM purchases'''\n",
    "p = fr.Postgres()\n",
    "purchases = p.get_df(sql)\n",
    "purchases.head()"
   ]
  },
  {
   "cell_type": "code",
   "execution_count": 22,
   "id": "334de132",
   "metadata": {
    "scrolled": true
   },
   "outputs": [
    {
     "name": "stdout",
     "output_type": "stream",
     "text": [
      "<class 'pandas.core.frame.DataFrame'>\n",
      "RangeIndex: 66180 entries, 0 to 66179\n",
      "Data columns (total 4 columns):\n",
      " #   Column                Non-Null Count  Dtype \n",
      "---  ------                --------------  ----- \n",
      " 0   purchases_created_at  66180 non-null  object\n",
      " 1   purchase_id           66180 non-null  object\n",
      " 2   client_id             66179 non-null  object\n",
      " 3   m_purchase_amount     66180 non-null  int64 \n",
      "dtypes: int64(1), object(3)\n",
      "memory usage: 2.0+ MB\n"
     ]
    }
   ],
   "source": [
    "purchases.info()"
   ]
  },
  {
   "cell_type": "markdown",
   "id": "367cc93d",
   "metadata": {},
   "source": [
    "Есть один клиент с пустым id, но при объединении таблиц он отсеется."
   ]
  },
  {
   "cell_type": "code",
   "execution_count": 23,
   "id": "6b66bdf0",
   "metadata": {},
   "outputs": [
    {
     "data": {
      "text/html": [
       "<div>\n",
       "<style scoped>\n",
       "    .dataframe tbody tr th:only-of-type {\n",
       "        vertical-align: middle;\n",
       "    }\n",
       "\n",
       "    .dataframe tbody tr th {\n",
       "        vertical-align: top;\n",
       "    }\n",
       "\n",
       "    .dataframe thead th {\n",
       "        text-align: right;\n",
       "    }\n",
       "</style>\n",
       "<table border=\"1\" class=\"dataframe\">\n",
       "  <thead>\n",
       "    <tr style=\"text-align: right;\">\n",
       "      <th></th>\n",
       "      <th>purchases_created_at</th>\n",
       "      <th>purchase_id</th>\n",
       "      <th>client_id</th>\n",
       "      <th>m_purchase_amount</th>\n",
       "    </tr>\n",
       "  </thead>\n",
       "  <tbody>\n",
       "    <tr>\n",
       "      <th>2</th>\n",
       "      <td>2022-02-21</td>\n",
       "      <td>267ff20f-a56c-480a-b2f7-1f7b1a746f9f</td>\n",
       "      <td>2687f503-6fd7-11e7-80fc-c412f533dba1</td>\n",
       "      <td>0</td>\n",
       "    </tr>\n",
       "    <tr>\n",
       "      <th>11</th>\n",
       "      <td>2022-02-22</td>\n",
       "      <td>d218cfdb-aaf0-418f-bd46-0c734388e7ab</td>\n",
       "      <td>dbce39b8-64d3-11e9-ab9f-c412f533dba1</td>\n",
       "      <td>0</td>\n",
       "    </tr>\n",
       "    <tr>\n",
       "      <th>22</th>\n",
       "      <td>2022-02-28</td>\n",
       "      <td>d7934a35-36b0-4eba-a066-cc1b7f83d431</td>\n",
       "      <td>84a77a5d-96f6-11ec-905d-848f69e142cf</td>\n",
       "      <td>0</td>\n",
       "    </tr>\n",
       "    <tr>\n",
       "      <th>30</th>\n",
       "      <td>2022-07-06</td>\n",
       "      <td>584c296b-c21c-4284-a8aa-f60c1ecffb84</td>\n",
       "      <td>98bb3432-1db6-11ea-abea-c412f533dba1</td>\n",
       "      <td>0</td>\n",
       "    </tr>\n",
       "    <tr>\n",
       "      <th>35</th>\n",
       "      <td>2022-03-15</td>\n",
       "      <td>937260f1-d800-4000-b451-05e028cb8b50</td>\n",
       "      <td>48096567-9493-11e7-8114-c412f533dba1</td>\n",
       "      <td>0</td>\n",
       "    </tr>\n",
       "    <tr>\n",
       "      <th>...</th>\n",
       "      <td>...</td>\n",
       "      <td>...</td>\n",
       "      <td>...</td>\n",
       "      <td>...</td>\n",
       "    </tr>\n",
       "    <tr>\n",
       "      <th>66160</th>\n",
       "      <td>2022-02-07</td>\n",
       "      <td>a396f3c1-27b5-49a4-b749-fa0816b9456f</td>\n",
       "      <td>9ffd4518-6fd8-11e7-80fc-c412f533dba1</td>\n",
       "      <td>0</td>\n",
       "    </tr>\n",
       "    <tr>\n",
       "      <th>66164</th>\n",
       "      <td>2022-02-15</td>\n",
       "      <td>756fca55-792a-4d76-ba52-9c0c559a549f</td>\n",
       "      <td>c6d96d70-57fd-11ec-9054-848f69e142cf</td>\n",
       "      <td>0</td>\n",
       "    </tr>\n",
       "    <tr>\n",
       "      <th>66165</th>\n",
       "      <td>2022-02-15</td>\n",
       "      <td>a9bec4a7-fd58-44d2-8fe5-df0229e1e8a6</td>\n",
       "      <td>20c3a2f4-0330-11eb-ac18-c412f533dba1</td>\n",
       "      <td>0</td>\n",
       "    </tr>\n",
       "    <tr>\n",
       "      <th>66168</th>\n",
       "      <td>2022-02-11</td>\n",
       "      <td>bd4eeb9c-a224-4934-8c04-dee472c4e03f</td>\n",
       "      <td>89e363a3-8b04-11ec-905a-848f69e142cf</td>\n",
       "      <td>0</td>\n",
       "    </tr>\n",
       "    <tr>\n",
       "      <th>66174</th>\n",
       "      <td>2022-02-19</td>\n",
       "      <td>db1503f6-2b1b-4f99-a10c-49dea1022ff5</td>\n",
       "      <td>58b2d255-d5a3-11e9-abbe-c412f533dba1</td>\n",
       "      <td>0</td>\n",
       "    </tr>\n",
       "  </tbody>\n",
       "</table>\n",
       "<p>8663 rows × 4 columns</p>\n",
       "</div>"
      ],
      "text/plain": [
       "      purchases_created_at                           purchase_id  \\\n",
       "2               2022-02-21  267ff20f-a56c-480a-b2f7-1f7b1a746f9f   \n",
       "11              2022-02-22  d218cfdb-aaf0-418f-bd46-0c734388e7ab   \n",
       "22              2022-02-28  d7934a35-36b0-4eba-a066-cc1b7f83d431   \n",
       "30              2022-07-06  584c296b-c21c-4284-a8aa-f60c1ecffb84   \n",
       "35              2022-03-15  937260f1-d800-4000-b451-05e028cb8b50   \n",
       "...                    ...                                   ...   \n",
       "66160           2022-02-07  a396f3c1-27b5-49a4-b749-fa0816b9456f   \n",
       "66164           2022-02-15  756fca55-792a-4d76-ba52-9c0c559a549f   \n",
       "66165           2022-02-15  a9bec4a7-fd58-44d2-8fe5-df0229e1e8a6   \n",
       "66168           2022-02-11  bd4eeb9c-a224-4934-8c04-dee472c4e03f   \n",
       "66174           2022-02-19  db1503f6-2b1b-4f99-a10c-49dea1022ff5   \n",
       "\n",
       "                                  client_id  m_purchase_amount  \n",
       "2      2687f503-6fd7-11e7-80fc-c412f533dba1                  0  \n",
       "11     dbce39b8-64d3-11e9-ab9f-c412f533dba1                  0  \n",
       "22     84a77a5d-96f6-11ec-905d-848f69e142cf                  0  \n",
       "30     98bb3432-1db6-11ea-abea-c412f533dba1                  0  \n",
       "35     48096567-9493-11e7-8114-c412f533dba1                  0  \n",
       "...                                     ...                ...  \n",
       "66160  9ffd4518-6fd8-11e7-80fc-c412f533dba1                  0  \n",
       "66164  c6d96d70-57fd-11ec-9054-848f69e142cf                  0  \n",
       "66165  20c3a2f4-0330-11eb-ac18-c412f533dba1                  0  \n",
       "66168  89e363a3-8b04-11ec-905a-848f69e142cf                  0  \n",
       "66174  58b2d255-d5a3-11e9-abbe-c412f533dba1                  0  \n",
       "\n",
       "[8663 rows x 4 columns]"
      ]
     },
     "execution_count": 23,
     "metadata": {},
     "output_type": "execute_result"
    }
   ],
   "source": [
    "# покупки с нулевой суммой\n",
    "purchases.query('m_purchase_amount==0')"
   ]
  },
  {
   "cell_type": "markdown",
   "id": "aa838a0e",
   "metadata": {},
   "source": [
    "В SQL запросе необходимо отфильтровать строки, где m_purchase_amount = 0. Возможно это были отмененные покупки или получение чего-то бесплатного (напр. по акции) через сайт, что не имеет отношения к прибыли и оценке эффективности маркетинговой кампании в рамках данного сквозного анализа.\n",
    "Также при объединении таблиц необходимо верно атрибутировать продажи к лидам. Это можно осуществить через оконные функции SQL. "
   ]
  },
  {
   "cell_type": "code",
   "execution_count": null,
   "id": "4594fc79",
   "metadata": {},
   "outputs": [],
   "source": []
  }
 ],
 "metadata": {
  "kernelspec": {
   "display_name": "Python 3",
   "language": "python",
   "name": "python3"
  },
  "language_info": {
   "codemirror_mode": {
    "name": "ipython",
    "version": 3
   },
   "file_extension": ".py",
   "mimetype": "text/x-python",
   "name": "python",
   "nbconvert_exporter": "python",
   "pygments_lexer": "ipython3",
   "version": "3.7.11"
  }
 },
 "nbformat": 4,
 "nbformat_minor": 5
}
